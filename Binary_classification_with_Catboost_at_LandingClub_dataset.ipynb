{
  "nbformat": 4,
  "nbformat_minor": 0,
  "metadata": {
    "colab": {
      "name": "Binary classification with Catboost at LandingClub dataset.ipynb",
      "provenance": [],
      "toc_visible": true,
      "include_colab_link": true
    },
    "kernelspec": {
      "name": "python3",
      "display_name": "Python 3"
    },
    "accelerator": "GPU"
  },
  "cells": [
    {
      "cell_type": "markdown",
      "metadata": {
        "id": "view-in-github",
        "colab_type": "text"
      },
      "source": [
        "<a href=\"https://colab.research.google.com/github/tlysenko/KyivstarBigDataSchool-studies/blob/master/Binary_classification_with_Catboost_at_LandingClub_dataset.ipynb\" target=\"_parent\"><img src=\"https://colab.research.google.com/assets/colab-badge.svg\" alt=\"Open In Colab\"/></a>"
      ]
    },
    {
      "cell_type": "markdown",
      "metadata": {
        "id": "SiaLmLB3oJKB",
        "colab_type": "text"
      },
      "source": [
        "# Binary classfication task using Catboost algorithm"
      ]
    },
    {
      "cell_type": "code",
      "metadata": {
        "id": "Ihuh2PEd2fbU",
        "colab_type": "code",
        "outputId": "f0c966e5-7962-40ed-c33a-9b8ebcb839ba",
        "colab": {
          "base_uri": "https://localhost:8080/",
          "height": 34
        }
      },
      "source": [
        "from google.colab import drive\n",
        "drive.mount('/content/drive')"
      ],
      "execution_count": 0,
      "outputs": [
        {
          "output_type": "stream",
          "text": [
            "Drive already mounted at /content/drive; to attempt to forcibly remount, call drive.mount(\"/content/drive\", force_remount=True).\n"
          ],
          "name": "stdout"
        }
      ]
    },
    {
      "cell_type": "markdown",
      "metadata": {
        "id": "nxX9qlE1-afA",
        "colab_type": "text"
      },
      "source": [
        "# Data preparation"
      ]
    },
    {
      "cell_type": "markdown",
      "metadata": {
        "id": "jIuPVPCnGZI6",
        "colab_type": "text"
      },
      "source": [
        "## Installing the packages and importing the libraries"
      ]
    },
    {
      "cell_type": "code",
      "metadata": {
        "id": "ophsF3qoFzK8",
        "colab_type": "code",
        "colab": {}
      },
      "source": [
        "!pip install catboost\n",
        "!pip install ipywidgets\n",
        "!jupyter nbextension enable --py widgetsnbextension"
      ],
      "execution_count": 0,
      "outputs": []
    },
    {
      "cell_type": "code",
      "metadata": {
        "id": "uBLxILHIFSAW",
        "colab_type": "code",
        "colab": {}
      },
      "source": [
        "import pandas as pd\n",
        "import numpy as np\n",
        "\n",
        "import matplotlib.pyplot as plt\n",
        "import seaborn as sns\n",
        "\n",
        "from catboost import CatBoostRegressor\n",
        "\n",
        "from sklearn.model_selection import train_test_split\n",
        "from sklearn.metrics import roc_auc_score, accuracy_score, confusion_matrix, classification_report"
      ],
      "execution_count": 0,
      "outputs": []
    },
    {
      "cell_type": "markdown",
      "metadata": {
        "id": "CxEpsxkfHlPy",
        "colab_type": "text"
      },
      "source": [
        "## Data preprocessing"
      ]
    },
    {
      "cell_type": "code",
      "metadata": {
        "id": "fAB7G15HFQXX",
        "colab_type": "code",
        "colab": {}
      },
      "source": [
        "df = pd.read_csv(\"/content/drive/My Drive/Datasets/DR_Demo_Lending_Club_reduced.csv\", na_values='na')"
      ],
      "execution_count": 0,
      "outputs": []
    },
    {
      "cell_type": "code",
      "metadata": {
        "id": "sOxoJRAaFglq",
        "colab_type": "code",
        "outputId": "e7c0e1ea-addd-4c91-fccf-85727aab2a9b",
        "colab": {
          "base_uri": "https://localhost:8080/",
          "height": 275
        }
      },
      "source": [
        "df.head()"
      ],
      "execution_count": 0,
      "outputs": [
        {
          "output_type": "execute_result",
          "data": {
            "text/html": [
              "<div>\n",
              "<style scoped>\n",
              "    .dataframe tbody tr th:only-of-type {\n",
              "        vertical-align: middle;\n",
              "    }\n",
              "\n",
              "    .dataframe tbody tr th {\n",
              "        vertical-align: top;\n",
              "    }\n",
              "\n",
              "    .dataframe thead th {\n",
              "        text-align: right;\n",
              "    }\n",
              "</style>\n",
              "<table border=\"1\" class=\"dataframe\">\n",
              "  <thead>\n",
              "    <tr style=\"text-align: right;\">\n",
              "      <th></th>\n",
              "      <th>Id</th>\n",
              "      <th>is_bad</th>\n",
              "      <th>emp_length</th>\n",
              "      <th>home_ownership</th>\n",
              "      <th>annual_inc</th>\n",
              "      <th>verification_status</th>\n",
              "      <th>pymnt_plan</th>\n",
              "      <th>purpose_cat</th>\n",
              "      <th>zip_code</th>\n",
              "      <th>addr_state</th>\n",
              "      <th>debt_to_income</th>\n",
              "      <th>delinq_2yrs</th>\n",
              "      <th>inq_last_6mths</th>\n",
              "      <th>mths_since_last_delinq</th>\n",
              "      <th>mths_since_last_record</th>\n",
              "      <th>open_acc</th>\n",
              "      <th>pub_rec</th>\n",
              "      <th>revol_bal</th>\n",
              "      <th>revol_util</th>\n",
              "      <th>total_acc</th>\n",
              "      <th>initial_list_status</th>\n",
              "      <th>collections_12_mths_ex_med</th>\n",
              "      <th>mths_since_last_major_derog</th>\n",
              "      <th>policy_code</th>\n",
              "    </tr>\n",
              "  </thead>\n",
              "  <tbody>\n",
              "    <tr>\n",
              "      <th>0</th>\n",
              "      <td>1</td>\n",
              "      <td>0</td>\n",
              "      <td>10.0</td>\n",
              "      <td>MORTGAGE</td>\n",
              "      <td>50000.0</td>\n",
              "      <td>not verified</td>\n",
              "      <td>n</td>\n",
              "      <td>medical</td>\n",
              "      <td>766xx</td>\n",
              "      <td>TX</td>\n",
              "      <td>10.87</td>\n",
              "      <td>0.0</td>\n",
              "      <td>0.0</td>\n",
              "      <td>NaN</td>\n",
              "      <td>NaN</td>\n",
              "      <td>15.0</td>\n",
              "      <td>0.0</td>\n",
              "      <td>12087</td>\n",
              "      <td>12.1</td>\n",
              "      <td>44.0</td>\n",
              "      <td>f</td>\n",
              "      <td>0.0</td>\n",
              "      <td>1</td>\n",
              "      <td>PC4</td>\n",
              "    </tr>\n",
              "    <tr>\n",
              "      <th>1</th>\n",
              "      <td>2</td>\n",
              "      <td>0</td>\n",
              "      <td>1.0</td>\n",
              "      <td>RENT</td>\n",
              "      <td>39216.0</td>\n",
              "      <td>not verified</td>\n",
              "      <td>n</td>\n",
              "      <td>debt consolidation</td>\n",
              "      <td>660xx</td>\n",
              "      <td>KS</td>\n",
              "      <td>9.15</td>\n",
              "      <td>0.0</td>\n",
              "      <td>2.0</td>\n",
              "      <td>NaN</td>\n",
              "      <td>NaN</td>\n",
              "      <td>4.0</td>\n",
              "      <td>0.0</td>\n",
              "      <td>10114</td>\n",
              "      <td>64.0</td>\n",
              "      <td>5.0</td>\n",
              "      <td>f</td>\n",
              "      <td>0.0</td>\n",
              "      <td>2</td>\n",
              "      <td>PC1</td>\n",
              "    </tr>\n",
              "    <tr>\n",
              "      <th>2</th>\n",
              "      <td>3</td>\n",
              "      <td>0</td>\n",
              "      <td>4.0</td>\n",
              "      <td>RENT</td>\n",
              "      <td>65000.0</td>\n",
              "      <td>not verified</td>\n",
              "      <td>n</td>\n",
              "      <td>credit card</td>\n",
              "      <td>916xx</td>\n",
              "      <td>CA</td>\n",
              "      <td>11.24</td>\n",
              "      <td>0.0</td>\n",
              "      <td>0.0</td>\n",
              "      <td>NaN</td>\n",
              "      <td>NaN</td>\n",
              "      <td>4.0</td>\n",
              "      <td>0.0</td>\n",
              "      <td>81</td>\n",
              "      <td>0.6</td>\n",
              "      <td>8.0</td>\n",
              "      <td>f</td>\n",
              "      <td>0.0</td>\n",
              "      <td>3</td>\n",
              "      <td>PC4</td>\n",
              "    </tr>\n",
              "    <tr>\n",
              "      <th>3</th>\n",
              "      <td>4</td>\n",
              "      <td>0</td>\n",
              "      <td>10.0</td>\n",
              "      <td>MORTGAGE</td>\n",
              "      <td>57500.0</td>\n",
              "      <td>not verified</td>\n",
              "      <td>n</td>\n",
              "      <td>debt consolidation</td>\n",
              "      <td>124xx</td>\n",
              "      <td>NY</td>\n",
              "      <td>6.18</td>\n",
              "      <td>1.0</td>\n",
              "      <td>0.0</td>\n",
              "      <td>16.0</td>\n",
              "      <td>NaN</td>\n",
              "      <td>6.0</td>\n",
              "      <td>0.0</td>\n",
              "      <td>10030</td>\n",
              "      <td>37.1</td>\n",
              "      <td>23.0</td>\n",
              "      <td>f</td>\n",
              "      <td>0.0</td>\n",
              "      <td>2</td>\n",
              "      <td>PC2</td>\n",
              "    </tr>\n",
              "    <tr>\n",
              "      <th>4</th>\n",
              "      <td>5</td>\n",
              "      <td>0</td>\n",
              "      <td>10.0</td>\n",
              "      <td>MORTGAGE</td>\n",
              "      <td>50004.0</td>\n",
              "      <td>VERIFIED - income</td>\n",
              "      <td>n</td>\n",
              "      <td>debt consolidation</td>\n",
              "      <td>439xx</td>\n",
              "      <td>OH</td>\n",
              "      <td>19.03</td>\n",
              "      <td>0.0</td>\n",
              "      <td>4.0</td>\n",
              "      <td>NaN</td>\n",
              "      <td>NaN</td>\n",
              "      <td>8.0</td>\n",
              "      <td>0.0</td>\n",
              "      <td>10740</td>\n",
              "      <td>40.4</td>\n",
              "      <td>21.0</td>\n",
              "      <td>f</td>\n",
              "      <td>0.0</td>\n",
              "      <td>3</td>\n",
              "      <td>PC3</td>\n",
              "    </tr>\n",
              "  </tbody>\n",
              "</table>\n",
              "</div>"
            ],
            "text/plain": [
              "   Id  is_bad  ...  mths_since_last_major_derog policy_code\n",
              "0   1       0  ...                            1         PC4\n",
              "1   2       0  ...                            2         PC1\n",
              "2   3       0  ...                            3         PC4\n",
              "3   4       0  ...                            2         PC2\n",
              "4   5       0  ...                            3         PC3\n",
              "\n",
              "[5 rows x 24 columns]"
            ]
          },
          "metadata": {
            "tags": []
          },
          "execution_count": 19
        }
      ]
    },
    {
      "cell_type": "markdown",
      "metadata": {
        "id": "7t2Dvg4lM64x",
        "colab_type": "text"
      },
      "source": [
        "## Missing variables "
      ]
    },
    {
      "cell_type": "code",
      "metadata": {
        "id": "hd_8OiDyM8at",
        "colab_type": "code",
        "outputId": "ef347276-07c9-41a4-8e46-89f62826ae93",
        "colab": {
          "base_uri": "https://localhost:8080/",
          "height": 442
        }
      },
      "source": [
        "# Missing values proportion\n",
        "df.isna().sum()/df.shape[0]"
      ],
      "execution_count": 0,
      "outputs": [
        {
          "output_type": "execute_result",
          "data": {
            "text/plain": [
              "Id                             0.0000\n",
              "is_bad                         0.0000\n",
              "emp_length                     0.0250\n",
              "home_ownership                 0.0000\n",
              "annual_inc                     0.0001\n",
              "verification_status            0.0000\n",
              "pymnt_plan                     0.0000\n",
              "purpose_cat                    0.0000\n",
              "zip_code                       0.0000\n",
              "addr_state                     0.0000\n",
              "debt_to_income                 0.0000\n",
              "delinq_2yrs                    0.0005\n",
              "inq_last_6mths                 0.0005\n",
              "mths_since_last_delinq         0.6316\n",
              "mths_since_last_record         0.9160\n",
              "open_acc                       0.0005\n",
              "pub_rec                        0.0005\n",
              "revol_bal                      0.0000\n",
              "revol_util                     0.0026\n",
              "total_acc                      0.0005\n",
              "initial_list_status            0.0000\n",
              "collections_12_mths_ex_med     0.0032\n",
              "mths_since_last_major_derog    0.0000\n",
              "policy_code                    0.0000\n",
              "dtype: float64"
            ]
          },
          "metadata": {
            "tags": []
          },
          "execution_count": 20
        }
      ]
    },
    {
      "cell_type": "code",
      "metadata": {
        "id": "PjWyZv0dTicP",
        "colab_type": "code",
        "outputId": "8600ed87-e99d-475b-8b97-f4d658b9d811",
        "colab": {
          "base_uri": "https://localhost:8080/",
          "height": 442
        }
      },
      "source": [
        "df.isna().sum()/df.shape[0] > 0"
      ],
      "execution_count": 0,
      "outputs": [
        {
          "output_type": "execute_result",
          "data": {
            "text/plain": [
              "Id                             False\n",
              "is_bad                         False\n",
              "emp_length                      True\n",
              "home_ownership                 False\n",
              "annual_inc                      True\n",
              "verification_status            False\n",
              "pymnt_plan                     False\n",
              "purpose_cat                    False\n",
              "zip_code                       False\n",
              "addr_state                     False\n",
              "debt_to_income                 False\n",
              "delinq_2yrs                     True\n",
              "inq_last_6mths                  True\n",
              "mths_since_last_delinq          True\n",
              "mths_since_last_record          True\n",
              "open_acc                        True\n",
              "pub_rec                         True\n",
              "revol_bal                      False\n",
              "revol_util                      True\n",
              "total_acc                       True\n",
              "initial_list_status            False\n",
              "collections_12_mths_ex_med      True\n",
              "mths_since_last_major_derog    False\n",
              "policy_code                    False\n",
              "dtype: bool"
            ]
          },
          "metadata": {
            "tags": []
          },
          "execution_count": 21
        }
      ]
    },
    {
      "cell_type": "code",
      "metadata": {
        "id": "xFzGCM8sTwrE",
        "colab_type": "code",
        "outputId": "46c8684f-775d-42ca-b079-4b9681e31200",
        "colab": {
          "base_uri": "https://localhost:8080/",
          "height": 85
        }
      },
      "source": [
        "# List of columns with NA values\n",
        "a = df.isna().sum()/df.shape[0] > 0\n",
        "col_na = a[a.values].index.values\n",
        "col_na"
      ],
      "execution_count": 0,
      "outputs": [
        {
          "output_type": "execute_result",
          "data": {
            "text/plain": [
              "array(['emp_length', 'annual_inc', 'delinq_2yrs', 'inq_last_6mths',\n",
              "       'mths_since_last_delinq', 'mths_since_last_record', 'open_acc',\n",
              "       'pub_rec', 'revol_util', 'total_acc', 'collections_12_mths_ex_med'],\n",
              "      dtype=object)"
            ]
          },
          "metadata": {
            "tags": []
          },
          "execution_count": 22
        }
      ]
    },
    {
      "cell_type": "code",
      "metadata": {
        "id": "_z0dkdFqUdrr",
        "colab_type": "code",
        "outputId": "e3befe97-6f54-4a3f-f120-6273666c092b",
        "colab": {
          "base_uri": "https://localhost:8080/",
          "height": 204
        }
      },
      "source": [
        "for col in col_na:\n",
        "  print(col, df[col].dtypes)"
      ],
      "execution_count": 0,
      "outputs": [
        {
          "output_type": "stream",
          "text": [
            "emp_length float64\n",
            "annual_inc float64\n",
            "delinq_2yrs float64\n",
            "inq_last_6mths float64\n",
            "mths_since_last_delinq float64\n",
            "mths_since_last_record float64\n",
            "open_acc float64\n",
            "pub_rec float64\n",
            "revol_util float64\n",
            "total_acc float64\n",
            "collections_12_mths_ex_med float64\n"
          ],
          "name": "stdout"
        }
      ]
    },
    {
      "cell_type": "markdown",
      "metadata": {
        "id": "3REC620BM9j6",
        "colab_type": "text"
      },
      "source": [
        "mths_since_last_delinq and mths_since_last_record variables should be dropeed from the dataset due to 50%+ amount of NAs."
      ]
    },
    {
      "cell_type": "markdown",
      "metadata": {
        "id": "fVlN_VvnQenF",
        "colab_type": "text"
      },
      "source": [
        "### Is there a linear correlation between numerical variables and target variable?"
      ]
    },
    {
      "cell_type": "code",
      "metadata": {
        "id": "d_SzeeodQ-1y",
        "colab_type": "code",
        "outputId": "c31d1835-9007-40b7-8542-d3a720757a70",
        "colab": {
          "base_uri": "https://localhost:8080/",
          "height": 54
        }
      },
      "source": [
        "numeric_cols = []\n",
        "for colname, coltype in zip(df.columns, df.dtypes):\n",
        "  if coltype == 'float64' or coltype == 'int64':\n",
        "    numeric_cols.append(colname)\n",
        "print(numeric_cols)"
      ],
      "execution_count": 0,
      "outputs": [
        {
          "output_type": "stream",
          "text": [
            "['Id', 'is_bad', 'emp_length', 'annual_inc', 'debt_to_income', 'delinq_2yrs', 'inq_last_6mths', 'mths_since_last_delinq', 'mths_since_last_record', 'open_acc', 'pub_rec', 'revol_bal', 'revol_util', 'total_acc', 'collections_12_mths_ex_med', 'mths_since_last_major_derog']\n"
          ],
          "name": "stdout"
        }
      ]
    },
    {
      "cell_type": "code",
      "metadata": {
        "id": "6O4lM21_Radj",
        "colab_type": "code",
        "colab": {}
      },
      "source": [
        "#numeric_cols.remove('is_bad')"
      ],
      "execution_count": 0,
      "outputs": []
    },
    {
      "cell_type": "code",
      "metadata": {
        "id": "EL5gjH-MNVKc",
        "colab_type": "code",
        "outputId": "ee2dc8b7-1ffd-48b3-9c15-7d8072b89395",
        "colab": {
          "base_uri": "https://localhost:8080/",
          "height": 565
        }
      },
      "source": [
        "dfcorr = df.loc[: , numeric_cols ].corr()\n",
        "dfcorr"
      ],
      "execution_count": 0,
      "outputs": [
        {
          "output_type": "execute_result",
          "data": {
            "text/html": [
              "<div>\n",
              "<style scoped>\n",
              "    .dataframe tbody tr th:only-of-type {\n",
              "        vertical-align: middle;\n",
              "    }\n",
              "\n",
              "    .dataframe tbody tr th {\n",
              "        vertical-align: top;\n",
              "    }\n",
              "\n",
              "    .dataframe thead th {\n",
              "        text-align: right;\n",
              "    }\n",
              "</style>\n",
              "<table border=\"1\" class=\"dataframe\">\n",
              "  <thead>\n",
              "    <tr style=\"text-align: right;\">\n",
              "      <th></th>\n",
              "      <th>Id</th>\n",
              "      <th>is_bad</th>\n",
              "      <th>emp_length</th>\n",
              "      <th>annual_inc</th>\n",
              "      <th>debt_to_income</th>\n",
              "      <th>delinq_2yrs</th>\n",
              "      <th>inq_last_6mths</th>\n",
              "      <th>mths_since_last_delinq</th>\n",
              "      <th>mths_since_last_record</th>\n",
              "      <th>open_acc</th>\n",
              "      <th>pub_rec</th>\n",
              "      <th>revol_bal</th>\n",
              "      <th>revol_util</th>\n",
              "      <th>total_acc</th>\n",
              "      <th>collections_12_mths_ex_med</th>\n",
              "      <th>mths_since_last_major_derog</th>\n",
              "    </tr>\n",
              "  </thead>\n",
              "  <tbody>\n",
              "    <tr>\n",
              "      <th>Id</th>\n",
              "      <td>1.000000</td>\n",
              "      <td>0.010883</td>\n",
              "      <td>0.026633</td>\n",
              "      <td>0.002736</td>\n",
              "      <td>0.014795</td>\n",
              "      <td>-0.000116</td>\n",
              "      <td>0.015789</td>\n",
              "      <td>0.010847</td>\n",
              "      <td>-0.001643</td>\n",
              "      <td>0.016304</td>\n",
              "      <td>-0.002248</td>\n",
              "      <td>0.007223</td>\n",
              "      <td>0.014310</td>\n",
              "      <td>0.022924</td>\n",
              "      <td>NaN</td>\n",
              "      <td>-0.004367</td>\n",
              "    </tr>\n",
              "    <tr>\n",
              "      <th>is_bad</th>\n",
              "      <td>0.010883</td>\n",
              "      <td>1.000000</td>\n",
              "      <td>-0.023712</td>\n",
              "      <td>-0.050975</td>\n",
              "      <td>0.029873</td>\n",
              "      <td>0.021842</td>\n",
              "      <td>-0.001146</td>\n",
              "      <td>0.001358</td>\n",
              "      <td>0.135735</td>\n",
              "      <td>-0.020356</td>\n",
              "      <td>0.032174</td>\n",
              "      <td>-0.016202</td>\n",
              "      <td>0.087876</td>\n",
              "      <td>-0.055307</td>\n",
              "      <td>NaN</td>\n",
              "      <td>0.015481</td>\n",
              "    </tr>\n",
              "    <tr>\n",
              "      <th>emp_length</th>\n",
              "      <td>0.026633</td>\n",
              "      <td>-0.023712</td>\n",
              "      <td>1.000000</td>\n",
              "      <td>0.146692</td>\n",
              "      <td>0.058695</td>\n",
              "      <td>0.023947</td>\n",
              "      <td>-0.017866</td>\n",
              "      <td>0.070826</td>\n",
              "      <td>0.288704</td>\n",
              "      <td>0.100870</td>\n",
              "      <td>0.057232</td>\n",
              "      <td>0.110264</td>\n",
              "      <td>0.019488</td>\n",
              "      <td>0.212535</td>\n",
              "      <td>NaN</td>\n",
              "      <td>0.002579</td>\n",
              "    </tr>\n",
              "    <tr>\n",
              "      <th>annual_inc</th>\n",
              "      <td>0.002736</td>\n",
              "      <td>-0.050975</td>\n",
              "      <td>0.146692</td>\n",
              "      <td>1.000000</td>\n",
              "      <td>-0.130184</td>\n",
              "      <td>0.038670</td>\n",
              "      <td>0.056718</td>\n",
              "      <td>-0.024578</td>\n",
              "      <td>0.006997</td>\n",
              "      <td>0.233821</td>\n",
              "      <td>-0.010398</td>\n",
              "      <td>0.359817</td>\n",
              "      <td>0.030792</td>\n",
              "      <td>0.329146</td>\n",
              "      <td>NaN</td>\n",
              "      <td>-0.002476</td>\n",
              "    </tr>\n",
              "    <tr>\n",
              "      <th>debt_to_income</th>\n",
              "      <td>0.014795</td>\n",
              "      <td>0.029873</td>\n",
              "      <td>0.058695</td>\n",
              "      <td>-0.130184</td>\n",
              "      <td>1.000000</td>\n",
              "      <td>-0.034393</td>\n",
              "      <td>0.012819</td>\n",
              "      <td>0.057264</td>\n",
              "      <td>0.135642</td>\n",
              "      <td>0.301003</td>\n",
              "      <td>-0.005351</td>\n",
              "      <td>0.163794</td>\n",
              "      <td>0.271439</td>\n",
              "      <td>0.233594</td>\n",
              "      <td>NaN</td>\n",
              "      <td>-0.007031</td>\n",
              "    </tr>\n",
              "    <tr>\n",
              "      <th>delinq_2yrs</th>\n",
              "      <td>-0.000116</td>\n",
              "      <td>0.021842</td>\n",
              "      <td>0.023947</td>\n",
              "      <td>0.038670</td>\n",
              "      <td>-0.034393</td>\n",
              "      <td>1.000000</td>\n",
              "      <td>0.039215</td>\n",
              "      <td>-0.532198</td>\n",
              "      <td>-0.051665</td>\n",
              "      <td>0.027398</td>\n",
              "      <td>0.020411</td>\n",
              "      <td>-0.030090</td>\n",
              "      <td>-0.051301</td>\n",
              "      <td>0.081918</td>\n",
              "      <td>NaN</td>\n",
              "      <td>-0.002744</td>\n",
              "    </tr>\n",
              "    <tr>\n",
              "      <th>inq_last_6mths</th>\n",
              "      <td>0.015789</td>\n",
              "      <td>-0.001146</td>\n",
              "      <td>-0.017866</td>\n",
              "      <td>0.056718</td>\n",
              "      <td>0.012819</td>\n",
              "      <td>0.039215</td>\n",
              "      <td>1.000000</td>\n",
              "      <td>-0.023393</td>\n",
              "      <td>-0.185354</td>\n",
              "      <td>0.088105</td>\n",
              "      <td>0.054711</td>\n",
              "      <td>0.043130</td>\n",
              "      <td>-0.037232</td>\n",
              "      <td>0.084671</td>\n",
              "      <td>NaN</td>\n",
              "      <td>0.008570</td>\n",
              "    </tr>\n",
              "    <tr>\n",
              "      <th>mths_since_last_delinq</th>\n",
              "      <td>0.010847</td>\n",
              "      <td>0.001358</td>\n",
              "      <td>0.070826</td>\n",
              "      <td>-0.024578</td>\n",
              "      <td>0.057264</td>\n",
              "      <td>-0.532198</td>\n",
              "      <td>-0.023393</td>\n",
              "      <td>1.000000</td>\n",
              "      <td>0.463951</td>\n",
              "      <td>0.036954</td>\n",
              "      <td>0.041267</td>\n",
              "      <td>-0.027052</td>\n",
              "      <td>0.094004</td>\n",
              "      <td>0.033914</td>\n",
              "      <td>NaN</td>\n",
              "      <td>-0.004022</td>\n",
              "    </tr>\n",
              "    <tr>\n",
              "      <th>mths_since_last_record</th>\n",
              "      <td>-0.001643</td>\n",
              "      <td>0.135735</td>\n",
              "      <td>0.288704</td>\n",
              "      <td>0.006997</td>\n",
              "      <td>0.135642</td>\n",
              "      <td>-0.051665</td>\n",
              "      <td>-0.185354</td>\n",
              "      <td>0.463951</td>\n",
              "      <td>1.000000</td>\n",
              "      <td>0.079317</td>\n",
              "      <td>0.784052</td>\n",
              "      <td>-0.063885</td>\n",
              "      <td>0.141067</td>\n",
              "      <td>0.153136</td>\n",
              "      <td>NaN</td>\n",
              "      <td>-0.027471</td>\n",
              "    </tr>\n",
              "    <tr>\n",
              "      <th>open_acc</th>\n",
              "      <td>0.016304</td>\n",
              "      <td>-0.020356</td>\n",
              "      <td>0.100870</td>\n",
              "      <td>0.233821</td>\n",
              "      <td>0.301003</td>\n",
              "      <td>0.027398</td>\n",
              "      <td>0.088105</td>\n",
              "      <td>0.036954</td>\n",
              "      <td>0.079317</td>\n",
              "      <td>1.000000</td>\n",
              "      <td>0.006680</td>\n",
              "      <td>0.233842</td>\n",
              "      <td>-0.074018</td>\n",
              "      <td>0.695387</td>\n",
              "      <td>NaN</td>\n",
              "      <td>-0.006169</td>\n",
              "    </tr>\n",
              "    <tr>\n",
              "      <th>pub_rec</th>\n",
              "      <td>-0.002248</td>\n",
              "      <td>0.032174</td>\n",
              "      <td>0.057232</td>\n",
              "      <td>-0.010398</td>\n",
              "      <td>-0.005351</td>\n",
              "      <td>0.020411</td>\n",
              "      <td>0.054711</td>\n",
              "      <td>0.041267</td>\n",
              "      <td>0.784052</td>\n",
              "      <td>0.006680</td>\n",
              "      <td>1.000000</td>\n",
              "      <td>-0.038547</td>\n",
              "      <td>0.051016</td>\n",
              "      <td>-0.013598</td>\n",
              "      <td>NaN</td>\n",
              "      <td>-0.002614</td>\n",
              "    </tr>\n",
              "    <tr>\n",
              "      <th>revol_bal</th>\n",
              "      <td>0.007223</td>\n",
              "      <td>-0.016202</td>\n",
              "      <td>0.110264</td>\n",
              "      <td>0.359817</td>\n",
              "      <td>0.163794</td>\n",
              "      <td>-0.030090</td>\n",
              "      <td>0.043130</td>\n",
              "      <td>-0.027052</td>\n",
              "      <td>-0.063885</td>\n",
              "      <td>0.233842</td>\n",
              "      <td>-0.038547</td>\n",
              "      <td>1.000000</td>\n",
              "      <td>0.201962</td>\n",
              "      <td>0.257274</td>\n",
              "      <td>NaN</td>\n",
              "      <td>-0.007541</td>\n",
              "    </tr>\n",
              "    <tr>\n",
              "      <th>revol_util</th>\n",
              "      <td>0.014310</td>\n",
              "      <td>0.087876</td>\n",
              "      <td>0.019488</td>\n",
              "      <td>0.030792</td>\n",
              "      <td>0.271439</td>\n",
              "      <td>-0.051301</td>\n",
              "      <td>-0.037232</td>\n",
              "      <td>0.094004</td>\n",
              "      <td>0.141067</td>\n",
              "      <td>-0.074018</td>\n",
              "      <td>0.051016</td>\n",
              "      <td>0.201962</td>\n",
              "      <td>1.000000</td>\n",
              "      <td>-0.051072</td>\n",
              "      <td>NaN</td>\n",
              "      <td>-0.002756</td>\n",
              "    </tr>\n",
              "    <tr>\n",
              "      <th>total_acc</th>\n",
              "      <td>0.022924</td>\n",
              "      <td>-0.055307</td>\n",
              "      <td>0.212535</td>\n",
              "      <td>0.329146</td>\n",
              "      <td>0.233594</td>\n",
              "      <td>0.081918</td>\n",
              "      <td>0.084671</td>\n",
              "      <td>0.033914</td>\n",
              "      <td>0.153136</td>\n",
              "      <td>0.695387</td>\n",
              "      <td>-0.013598</td>\n",
              "      <td>0.257274</td>\n",
              "      <td>-0.051072</td>\n",
              "      <td>1.000000</td>\n",
              "      <td>NaN</td>\n",
              "      <td>0.002505</td>\n",
              "    </tr>\n",
              "    <tr>\n",
              "      <th>collections_12_mths_ex_med</th>\n",
              "      <td>NaN</td>\n",
              "      <td>NaN</td>\n",
              "      <td>NaN</td>\n",
              "      <td>NaN</td>\n",
              "      <td>NaN</td>\n",
              "      <td>NaN</td>\n",
              "      <td>NaN</td>\n",
              "      <td>NaN</td>\n",
              "      <td>NaN</td>\n",
              "      <td>NaN</td>\n",
              "      <td>NaN</td>\n",
              "      <td>NaN</td>\n",
              "      <td>NaN</td>\n",
              "      <td>NaN</td>\n",
              "      <td>NaN</td>\n",
              "      <td>NaN</td>\n",
              "    </tr>\n",
              "    <tr>\n",
              "      <th>mths_since_last_major_derog</th>\n",
              "      <td>-0.004367</td>\n",
              "      <td>0.015481</td>\n",
              "      <td>0.002579</td>\n",
              "      <td>-0.002476</td>\n",
              "      <td>-0.007031</td>\n",
              "      <td>-0.002744</td>\n",
              "      <td>0.008570</td>\n",
              "      <td>-0.004022</td>\n",
              "      <td>-0.027471</td>\n",
              "      <td>-0.006169</td>\n",
              "      <td>-0.002614</td>\n",
              "      <td>-0.007541</td>\n",
              "      <td>-0.002756</td>\n",
              "      <td>0.002505</td>\n",
              "      <td>NaN</td>\n",
              "      <td>1.000000</td>\n",
              "    </tr>\n",
              "  </tbody>\n",
              "</table>\n",
              "</div>"
            ],
            "text/plain": [
              "                                   Id  ...  mths_since_last_major_derog\n",
              "Id                           1.000000  ...                    -0.004367\n",
              "is_bad                       0.010883  ...                     0.015481\n",
              "emp_length                   0.026633  ...                     0.002579\n",
              "annual_inc                   0.002736  ...                    -0.002476\n",
              "debt_to_income               0.014795  ...                    -0.007031\n",
              "delinq_2yrs                 -0.000116  ...                    -0.002744\n",
              "inq_last_6mths               0.015789  ...                     0.008570\n",
              "mths_since_last_delinq       0.010847  ...                    -0.004022\n",
              "mths_since_last_record      -0.001643  ...                    -0.027471\n",
              "open_acc                     0.016304  ...                    -0.006169\n",
              "pub_rec                     -0.002248  ...                    -0.002614\n",
              "revol_bal                    0.007223  ...                    -0.007541\n",
              "revol_util                   0.014310  ...                    -0.002756\n",
              "total_acc                    0.022924  ...                     0.002505\n",
              "collections_12_mths_ex_med        NaN  ...                          NaN\n",
              "mths_since_last_major_derog -0.004367  ...                     1.000000\n",
              "\n",
              "[16 rows x 16 columns]"
            ]
          },
          "metadata": {
            "tags": []
          },
          "execution_count": 26
        }
      ]
    },
    {
      "cell_type": "code",
      "metadata": {
        "id": "LefkRTtTPdKO",
        "colab_type": "code",
        "outputId": "30215dd7-956e-4f66-e1e2-79d71ffef160",
        "colab": {
          "base_uri": "https://localhost:8080/",
          "height": 666
        }
      },
      "source": [
        "plt.figure(figsize=(10,10))\n",
        "sns.heatmap(dfcorr,linewidths=0.1,vmax=1.0, \n",
        "            square=True,  linecolor='white', annot=True)\n",
        "plt.show()"
      ],
      "execution_count": 0,
      "outputs": [
        {
          "output_type": "display_data",
          "data": {
            "image/png": "[encoded data removed]",
            "text/plain": [
              "<Figure size 720x720 with 2 Axes>"
            ]
          },
          "metadata": {
            "tags": []
          }
        }
      ]
    },
    {
      "cell_type": "markdown",
      "metadata": {
        "id": "HYW4TugMSjBt",
        "colab_type": "text"
      },
      "source": [
        "As long as there is no correllation between the **emp_length, revol_util, total_acc** variables and the target one we can replace NAN values with mean value. \n",
        "\n",
        "**collections_12_mths_ex_med** variable should be dropped off as long as it contains either zero or NAN values."
      ]
    },
    {
      "cell_type": "code",
      "metadata": {
        "id": "RiQTpKYKSLWJ",
        "colab_type": "code",
        "colab": {}
      },
      "source": [
        "for col in col_na:\n",
        "  mean_value = np.mean(df[col])\n",
        "  df[col] = df[col].fillna(value = mean_value)"
      ],
      "execution_count": 0,
      "outputs": []
    },
    {
      "cell_type": "code",
      "metadata": {
        "id": "wvEdcCiHXB4h",
        "colab_type": "code",
        "colab": {}
      },
      "source": [
        "df = df.drop(['collections_12_mths_ex_med', 'Id', 'mths_since_last_delinq', 'mths_since_last_record'], axis = 1)"
      ],
      "execution_count": 0,
      "outputs": []
    },
    {
      "cell_type": "markdown",
      "metadata": {
        "id": "NO5_zq3SHrir",
        "colab_type": "text"
      },
      "source": [
        "## Dummy encoding text/categorical features"
      ]
    },
    {
      "cell_type": "code",
      "metadata": {
        "id": "nFWWc280HqIE",
        "colab_type": "code",
        "outputId": "927de05f-27fe-425f-aa7e-96c6b5692263",
        "colab": {
          "base_uri": "https://localhost:8080/",
          "height": 153
        }
      },
      "source": [
        "categorical_variables = []\n",
        "for colname, coltype in zip(df.columns, df.dtypes):\n",
        "  if coltype == object:\n",
        "    print(colname, coltype)\n",
        "    categorical_variables.append(colname)"
      ],
      "execution_count": 0,
      "outputs": [
        {
          "output_type": "stream",
          "text": [
            "home_ownership object\n",
            "verification_status object\n",
            "pymnt_plan object\n",
            "purpose_cat object\n",
            "zip_code object\n",
            "addr_state object\n",
            "initial_list_status object\n",
            "policy_code object\n"
          ],
          "name": "stdout"
        }
      ]
    },
    {
      "cell_type": "code",
      "metadata": {
        "id": "ldTNTeEWZYY9",
        "colab_type": "code",
        "outputId": "5eeed897-71dd-43cd-8536-31bc392f5891",
        "colab": {
          "base_uri": "https://localhost:8080/",
          "height": 153
        }
      },
      "source": [
        "categorical_variables"
      ],
      "execution_count": 0,
      "outputs": [
        {
          "output_type": "execute_result",
          "data": {
            "text/plain": [
              "['home_ownership',\n",
              " 'verification_status',\n",
              " 'pymnt_plan',\n",
              " 'purpose_cat',\n",
              " 'zip_code',\n",
              " 'addr_state',\n",
              " 'initial_list_status',\n",
              " 'policy_code']"
            ]
          },
          "metadata": {
            "tags": []
          },
          "execution_count": 31
        }
      ]
    },
    {
      "cell_type": "code",
      "metadata": {
        "id": "qS11qKIEIiLu",
        "colab_type": "code",
        "colab": {}
      },
      "source": [
        "df = pd.concat([df,pd.get_dummies(df[categorical_variables])], axis = 1)\n",
        "df = df.drop(categorical_variables, axis =1) "
      ],
      "execution_count": 0,
      "outputs": []
    },
    {
      "cell_type": "markdown",
      "metadata": {
        "id": "6PgamOKUHo7B",
        "colab_type": "text"
      },
      "source": [
        "## Model training"
      ]
    },
    {
      "cell_type": "code",
      "metadata": {
        "id": "7ceJVuRmHOsX",
        "colab_type": "code",
        "colab": {}
      },
      "source": [
        "catboost = CatBoostRegressor(task_type ='GPU', random_seed=111)"
      ],
      "execution_count": 0,
      "outputs": []
    },
    {
      "cell_type": "code",
      "metadata": {
        "id": "Pc3tPD_XFghZ",
        "colab_type": "code",
        "colab": {}
      },
      "source": [
        "X = df.drop('is_bad', axis=1)\n",
        "y = df['is_bad']\n",
        "\n",
        "X_train, X_test, y_train, y_test = train_test_split(X, y, test_size=0.2, stratify=y)"
      ],
      "execution_count": 0,
      "outputs": []
    },
    {
      "cell_type": "code",
      "metadata": {
        "id": "U25Mhzlqmknp",
        "colab_type": "code",
        "colab": {}
      },
      "source": [
        "from sklearn.preprocessing import StandardScaler\n",
        "feature_scaler = StandardScaler()\n",
        "X_train = feature_scaler.fit_transform(X_train)\n",
        "X_test = feature_scaler.transform(X_test)"
      ],
      "execution_count": 0,
      "outputs": []
    },
    {
      "cell_type": "code",
      "metadata": {
        "id": "vlbKh6m4HeAH",
        "colab_type": "code",
        "outputId": "bb8ebac4-82c2-4d58-b267-8196915df853",
        "colab": {
          "base_uri": "https://localhost:8080/",
          "height": 34
        }
      },
      "source": [
        "catboost.fit(X_train, y_train, verbose=False)"
      ],
      "execution_count": 0,
      "outputs": [
        {
          "output_type": "execute_result",
          "data": {
            "text/plain": [
              "<catboost.core.CatBoostRegressor at 0x7febc2a87550>"
            ]
          },
          "metadata": {
            "tags": []
          },
          "execution_count": 102
        }
      ]
    },
    {
      "cell_type": "markdown",
      "metadata": {
        "id": "HCQJvoZZoU0M",
        "colab_type": "text"
      },
      "source": [
        "## Prediction"
      ]
    },
    {
      "cell_type": "code",
      "metadata": {
        "id": "zU5Xokgch7DY",
        "colab_type": "code",
        "colab": {}
      },
      "source": [
        "prediction = catboost.predict(X_test)\n",
        "prediction = [int(round(x,0)) for x in prediction]"
      ],
      "execution_count": 0,
      "outputs": []
    },
    {
      "cell_type": "markdown",
      "metadata": {
        "id": "mNg47QaSoXT8",
        "colab_type": "text"
      },
      "source": [
        "## Model evaluation"
      ]
    },
    {
      "cell_type": "code",
      "metadata": {
        "id": "Sy0CPt4UiL9J",
        "colab_type": "code",
        "outputId": "b199146e-3aa3-4e8f-9482-3e44fd8786ba",
        "colab": {
          "base_uri": "https://localhost:8080/",
          "height": 34
        }
      },
      "source": [
        "roc_auc_score(y_test, prediction)"
      ],
      "execution_count": 0,
      "outputs": [
        {
          "output_type": "execute_result",
          "data": {
            "text/plain": [
              "0.5752895752895753"
            ]
          },
          "metadata": {
            "tags": []
          },
          "execution_count": 107
        }
      ]
    },
    {
      "cell_type": "code",
      "metadata": {
        "id": "GLeJUSAEiPd9",
        "colab_type": "code",
        "outputId": "46ec71f6-5b77-4d0a-bb49-d0cf7d47fa17",
        "colab": {
          "base_uri": "https://localhost:8080/",
          "height": 34
        }
      },
      "source": [
        "accuracy_score(y_test, prediction)"
      ],
      "execution_count": 0,
      "outputs": [
        {
          "output_type": "execute_result",
          "data": {
            "text/plain": [
              "0.89"
            ]
          },
          "metadata": {
            "tags": []
          },
          "execution_count": 108
        }
      ]
    },
    {
      "cell_type": "code",
      "metadata": {
        "id": "VupxkyOkjMkL",
        "colab_type": "code",
        "outputId": "9aea9d48-7acd-4390-8dc6-8b2f4861dc34",
        "colab": {
          "base_uri": "https://localhost:8080/",
          "height": 51
        }
      },
      "source": [
        "confusion_matrix(y_test, prediction)"
      ],
      "execution_count": 0,
      "outputs": [
        {
          "output_type": "execute_result",
          "data": {
            "text/plain": [
              "array([[1741,    0],\n",
              "       [ 220,   39]])"
            ]
          },
          "metadata": {
            "tags": []
          },
          "execution_count": 109
        }
      ]
    },
    {
      "cell_type": "code",
      "metadata": {
        "id": "67UdJ3x-kFP9",
        "colab_type": "code",
        "outputId": "015af534-edee-4e15-8703-815168d3f078",
        "colab": {
          "base_uri": "https://localhost:8080/",
          "height": 170
        }
      },
      "source": [
        "print(classification_report(y_test, prediction))"
      ],
      "execution_count": 0,
      "outputs": [
        {
          "output_type": "stream",
          "text": [
            "              precision    recall  f1-score   support\n",
            "\n",
            "           0       0.89      1.00      0.94      1741\n",
            "           1       1.00      0.15      0.26       259\n",
            "\n",
            "    accuracy                           0.89      2000\n",
            "   macro avg       0.94      0.58      0.60      2000\n",
            "weighted avg       0.90      0.89      0.85      2000\n",
            "\n"
          ],
          "name": "stdout"
        }
      ]
    },
    {
      "cell_type": "markdown",
      "metadata": {
        "id": "2A2dwYxejUrZ",
        "colab_type": "text"
      },
      "source": [
        "## Summary\n",
        "\n",
        "The model has 1.0 percision for the '1' class that means the bank will operate in the a very low risk mode by granding the credits only to the clients that would surely give it back. \n",
        "\n",
        "Next steps: \n",
        "* Parameters tuning using Grid Search CV with Cross Validation"
      ]
    },
    {
      "cell_type": "markdown",
      "metadata": {
        "id": "nAiQXfILcWWs",
        "colab_type": "text"
      },
      "source": [
        "## Feature importance"
      ]
    },
    {
      "cell_type": "code",
      "metadata": {
        "id": "MDPG1ujNcu1p",
        "colab_type": "code",
        "outputId": "0db75e3f-a339-4bc8-b5b1-a4b3219b5df1",
        "colab": {
          "base_uri": "https://localhost:8080/",
          "height": 542
        }
      },
      "source": [
        "# The plot is not working in collab, unforunately\n",
        "res = catboost.calc_feature_statistics(X_train,\n",
        "                                        y_train,\n",
        "                                        feature=2,\n",
        "                                        plot=True)"
      ],
      "execution_count": 0,
      "outputs": [
        {
          "output_type": "display_data",
          "data": {
            "text/html": [
              "        <script type=\"text/javascript\">\n",
              "        window.PlotlyConfig = {MathJaxConfig: 'local'};\n",
              "        if (window.MathJax) {MathJax.Hub.Config({SVG: {font: \"STIX-Web\"}});}\n",
              "        if (typeof require !== 'undefined') {\n",
              "        require.undef(\"plotly\");\n",
              "        requirejs.config({\n",
              "            paths: {\n",
              "                'plotly': ['https://cdn.plot.ly/plotly-latest.min']\n",
              "            }\n",
              "        });\n",
              "        require(['plotly'], function(Plotly) {\n",
              "            window._Plotly = Plotly;\n",
              "        });\n",
              "        }\n",
              "        </script>\n",
              "        "
            ]
          },
          "metadata": {
            "tags": []
          }
        },
        {
          "output_type": "display_data",
          "data": {
            "text/html": [
              "<div>\n",
              "        \n",
              "        \n",
              "            <div id=\"ea0d4f8e-937e-4434-a622-7765542d8566\" class=\"plotly-graph-div\" style=\"height:525px; width:100%;\"></div>\n",
              "            <script type=\"text/javascript\">\n",
              "                require([\"plotly\"], function(Plotly) {\n",
              "                    window.PLOTLYENV=window.PLOTLYENV || {};\n",
              "                    \n",
              "                if (document.getElementById(\"ea0d4f8e-937e-4434-a622-7765542d8566\")) {\n",
              "                    Plotly.newPlot(\n",
              "                        'ea0d4f8e-937e-4434-a622-7765542d8566',\n",
              "                        [{\"mode\": \"lines+markers\", \"name\": \"Mean target\", \"type\": \"scatter\", \"xaxis\": \"x\", \"y\": [0.16129031777381897, 0.095238097012043, 0.08064515888690948, 0.09866666793823242, 0.22580644488334656, 0.0634920671582222, 0.11290322244167328, 0.15322580933570862, 0.13297872245311737, 0.13439635932445526, 0.08414239436388016, 0.109375, 0.20000000298023224, 0.1269841343164444, 0.13846154510974884, 0.09677419066429138, 0.15079365670681, 0.14673912525177002, 0.11382114142179489, 0.07065217196941376, 0.1190476194024086, 0.1875, 0.12903225421905518, 0.11222445219755173, 0.12820513546466827, 0.14649681746959686, 0.13527850806713104, 0.06451612710952759, 0.1388518065214157, 0.2222222238779068, 0.16260161995887756, 0.1484375, 0.1269841343164444, 0.09090909361839294, 0.1147540956735611, 0.12903225421905518, 0.140625, 0.1260162591934204, 0.0793650820851326, 0.17670682072639465, 0.14960630238056183, 0.0901639312505722, 0.1269841343164444, 0.15625, 0.11428571492433548, 0.1269841343164444, 0.19354838132858276, 0.09756097197532654, 0.17599999904632568, 0.14516128599643707, 0.1587301641702652, 0.15322580933570862, 0.0793650820851326, 0.1428571492433548], \"yaxis\": \"y\"}, {\"mode\": \"lines+markers\", \"name\": \"Mean prediction on each segment of feature values\", \"type\": \"scatter\", \"xaxis\": \"x\", \"y\": [0.12868063151836395, 0.10210713744163513, 0.09761864691972733, 0.11178465932607651, 0.13335531949996948, 0.08797776699066162, 0.13580438494682312, 0.1323717087507248, 0.11737130582332611, 0.1263817697763443, 0.10500222444534302, 0.10256866365671158, 0.12831267714500427, 0.12745505571365356, 0.09790490567684174, 0.1018163338303566, 0.1385505646467209, 0.11611239612102509, 0.12320330739021301, 0.13279756903648376, 0.11803682893514633, 0.1503818780183792, 0.12984000146389008, 0.1251990795135498, 0.1233980804681778, 0.1339283287525177, 0.14098826050758362, 0.12824489176273346, 0.1338891237974167, 0.15955333411693573, 0.15451720356941223, 0.1295873075723648, 0.14956951141357422, 0.11286042630672455, 0.13740447163581848, 0.15670357644557953, 0.14447517693042755, 0.12620273232460022, 0.11850900948047638, 0.16133429110050201, 0.1372475028038025, 0.12753792107105255, 0.14393536746501923, 0.11889026314020157, 0.15656335651874542, 0.14618122577667236, 0.15683308243751526, 0.13357415795326233, 0.15233226120471954, 0.14763502776622772, 0.1633385270833969, 0.13888412714004517, 0.10533519089221954, 0.13891994953155518], \"yaxis\": \"y\"}, {\"marker\": {\"color\": \"rgba(30, 150, 30, 0.4)\"}, \"name\": \"Objects per bin\", \"type\": \"bar\", \"width\": 0.8, \"xaxis\": \"x\", \"y\": [62, 63, 62, 375, 62, 63, 62, 124, 188, 439, 309, 64, 65, 126, 65, 62, 126, 184, 123, 184, 126, 64, 62, 499, 624, 314, 377, 62, 749, 63, 123, 128, 63, 66, 61, 62, 64, 246, 63, 249, 127, 122, 63, 32, 35, 63, 62, 123, 125, 62, 63, 124, 63, 63], \"yaxis\": \"y2\"}, {\"mode\": \"lines+markers\", \"name\": \"Mean prediction with substituted feature\", \"type\": \"scatter\", \"xaxis\": \"x\", \"y\": [0.13100121341305707, 0.13107207877667731, 0.13067318904607422, 0.13086215550025646, 0.13169362275777816, 0.13112798171010723, 0.13116501437236894, 0.13090063704794297, 0.13093620966662428, 0.13074116707690775, 0.13046286402461219, 0.1304814604848884, 0.13072035487574843, 0.1303905008724149, 0.13036894650046055, 0.12949828903064567, 0.1293995035168583, 0.1293951081871836, 0.1292029214356129, 0.12905056971545228, 0.12908909999919105, 0.12909696393963452, 0.12932719093010853, 0.12926710861925733, 0.12928430481348793, 0.12929051971053188, 0.12918866225324008, 0.1291346668538231, 0.12928925053960533, 0.12932524115376284, 0.12919467127061351, 0.12910845560988196, 0.1287620231557408, 0.12860822207697398, 0.12847529169048716, 0.12821297996759715, 0.12827998732181115, 0.12819457689285058, 0.12812255657945043, 0.12815423901113782, 0.1280047541565223, 0.12743988661348046, 0.1271565930286263, 0.12729110843199878, 0.12727457105620413, 0.12726232457693906, 0.1275210808551616, 0.12737978499041414, 0.12770011003902446, 0.1281458176146937, 0.12830732600911898, 0.12881168251771555, 0.12708362677375842, 0.12708362677375842], \"yaxis\": \"y\"}],\n",
              "                        {\"template\": {\"data\": {\"bar\": [{\"error_x\": {\"color\": \"#2a3f5f\"}, \"error_y\": {\"color\": \"#2a3f5f\"}, \"marker\": {\"line\": {\"color\": \"#E5ECF6\", \"width\": 0.5}}, \"type\": \"bar\"}], \"barpolar\": [{\"marker\": {\"line\": {\"color\": \"#E5ECF6\", \"width\": 0.5}}, \"type\": \"barpolar\"}], \"carpet\": [{\"aaxis\": {\"endlinecolor\": \"#2a3f5f\", \"gridcolor\": \"white\", \"linecolor\": \"white\", \"minorgridcolor\": \"white\", \"startlinecolor\": \"#2a3f5f\"}, \"baxis\": {\"endlinecolor\": \"#2a3f5f\", \"gridcolor\": \"white\", \"linecolor\": \"white\", \"minorgridcolor\": \"white\", \"startlinecolor\": \"#2a3f5f\"}, \"type\": \"carpet\"}], \"choropleth\": [{\"colorbar\": {\"outlinewidth\": 0, \"ticks\": \"\"}, \"type\": \"choropleth\"}], \"contour\": [{\"colorbar\": {\"outlinewidth\": 0, \"ticks\": \"\"}, \"colorscale\": [[0.0, \"#0d0887\"], [0.1111111111111111, \"#46039f\"], [0.2222222222222222, \"#7201a8\"], [0.3333333333333333, \"#9c179e\"], [0.4444444444444444, \"#bd3786\"], [0.5555555555555556, \"#d8576b\"], [0.6666666666666666, \"#ed7953\"], [0.7777777777777778, \"#fb9f3a\"], [0.8888888888888888, \"#fdca26\"], [1.0, \"#f0f921\"]], \"type\": \"contour\"}], \"contourcarpet\": [{\"colorbar\": {\"outlinewidth\": 0, \"ticks\": \"\"}, \"type\": \"contourcarpet\"}], \"heatmap\": [{\"colorbar\": {\"outlinewidth\": 0, \"ticks\": \"\"}, \"colorscale\": [[0.0, \"#0d0887\"], [0.1111111111111111, \"#46039f\"], [0.2222222222222222, \"#7201a8\"], [0.3333333333333333, \"#9c179e\"], [0.4444444444444444, \"#bd3786\"], [0.5555555555555556, \"#d8576b\"], [0.6666666666666666, \"#ed7953\"], [0.7777777777777778, \"#fb9f3a\"], [0.8888888888888888, \"#fdca26\"], [1.0, \"#f0f921\"]], \"type\": \"heatmap\"}], \"heatmapgl\": [{\"colorbar\": {\"outlinewidth\": 0, \"ticks\": \"\"}, \"colorscale\": [[0.0, \"#0d0887\"], [0.1111111111111111, \"#46039f\"], [0.2222222222222222, \"#7201a8\"], [0.3333333333333333, \"#9c179e\"], [0.4444444444444444, \"#bd3786\"], [0.5555555555555556, \"#d8576b\"], [0.6666666666666666, \"#ed7953\"], [0.7777777777777778, \"#fb9f3a\"], [0.8888888888888888, \"#fdca26\"], [1.0, \"#f0f921\"]], \"type\": \"heatmapgl\"}], \"histogram\": [{\"marker\": {\"colorbar\": {\"outlinewidth\": 0, \"ticks\": \"\"}}, \"type\": \"histogram\"}], \"histogram2d\": [{\"colorbar\": {\"outlinewidth\": 0, \"ticks\": \"\"}, \"colorscale\": [[0.0, \"#0d0887\"], [0.1111111111111111, \"#46039f\"], [0.2222222222222222, \"#7201a8\"], [0.3333333333333333, \"#9c179e\"], [0.4444444444444444, \"#bd3786\"], [0.5555555555555556, \"#d8576b\"], [0.6666666666666666, \"#ed7953\"], [0.7777777777777778, \"#fb9f3a\"], [0.8888888888888888, \"#fdca26\"], [1.0, \"#f0f921\"]], \"type\": \"histogram2d\"}], \"histogram2dcontour\": [{\"colorbar\": {\"outlinewidth\": 0, \"ticks\": \"\"}, \"colorscale\": [[0.0, \"#0d0887\"], [0.1111111111111111, \"#46039f\"], [0.2222222222222222, \"#7201a8\"], [0.3333333333333333, \"#9c179e\"], [0.4444444444444444, \"#bd3786\"], [0.5555555555555556, \"#d8576b\"], [0.6666666666666666, \"#ed7953\"], [0.7777777777777778, \"#fb9f3a\"], [0.8888888888888888, \"#fdca26\"], [1.0, \"#f0f921\"]], \"type\": \"histogram2dcontour\"}], \"mesh3d\": [{\"colorbar\": {\"outlinewidth\": 0, \"ticks\": \"\"}, \"type\": \"mesh3d\"}], \"parcoords\": [{\"line\": {\"colorbar\": {\"outlinewidth\": 0, \"ticks\": \"\"}}, \"type\": \"parcoords\"}], \"scatter\": [{\"marker\": {\"colorbar\": {\"outlinewidth\": 0, \"ticks\": \"\"}}, \"type\": \"scatter\"}], \"scatter3d\": [{\"line\": {\"colorbar\": {\"outlinewidth\": 0, \"ticks\": \"\"}}, \"marker\": {\"colorbar\": {\"outlinewidth\": 0, \"ticks\": \"\"}}, \"type\": \"scatter3d\"}], \"scattercarpet\": [{\"marker\": {\"colorbar\": {\"outlinewidth\": 0, \"ticks\": \"\"}}, \"type\": \"scattercarpet\"}], \"scattergeo\": [{\"marker\": {\"colorbar\": {\"outlinewidth\": 0, \"ticks\": \"\"}}, \"type\": \"scattergeo\"}], \"scattergl\": [{\"marker\": {\"colorbar\": {\"outlinewidth\": 0, \"ticks\": \"\"}}, \"type\": \"scattergl\"}], \"scattermapbox\": [{\"marker\": {\"colorbar\": {\"outlinewidth\": 0, \"ticks\": \"\"}}, \"type\": \"scattermapbox\"}], \"scatterpolar\": [{\"marker\": {\"colorbar\": {\"outlinewidth\": 0, \"ticks\": \"\"}}, \"type\": \"scatterpolar\"}], \"scatterpolargl\": [{\"marker\": {\"colorbar\": {\"outlinewidth\": 0, \"ticks\": \"\"}}, \"type\": \"scatterpolargl\"}], \"scatterternary\": [{\"marker\": {\"colorbar\": {\"outlinewidth\": 0, \"ticks\": \"\"}}, \"type\": \"scatterternary\"}], \"surface\": [{\"colorbar\": {\"outlinewidth\": 0, \"ticks\": \"\"}, \"colorscale\": [[0.0, \"#0d0887\"], [0.1111111111111111, \"#46039f\"], [0.2222222222222222, \"#7201a8\"], [0.3333333333333333, \"#9c179e\"], [0.4444444444444444, \"#bd3786\"], [0.5555555555555556, \"#d8576b\"], [0.6666666666666666, \"#ed7953\"], [0.7777777777777778, \"#fb9f3a\"], [0.8888888888888888, \"#fdca26\"], [1.0, \"#f0f921\"]], \"type\": \"surface\"}], \"table\": [{\"cells\": {\"fill\": {\"color\": \"#EBF0F8\"}, \"line\": {\"color\": \"white\"}}, \"header\": {\"fill\": {\"color\": \"#C8D4E3\"}, \"line\": {\"color\": \"white\"}}, \"type\": \"table\"}]}, \"layout\": {\"annotationdefaults\": {\"arrowcolor\": \"#2a3f5f\", \"arrowhead\": 0, \"arrowwidth\": 1}, \"colorscale\": {\"diverging\": [[0, \"#8e0152\"], [0.1, \"#c51b7d\"], [0.2, \"#de77ae\"], [0.3, \"#f1b6da\"], [0.4, \"#fde0ef\"], [0.5, \"#f7f7f7\"], [0.6, \"#e6f5d0\"], [0.7, \"#b8e186\"], [0.8, \"#7fbc41\"], [0.9, \"#4d9221\"], [1, \"#276419\"]], \"sequential\": [[0.0, \"#0d0887\"], [0.1111111111111111, \"#46039f\"], [0.2222222222222222, \"#7201a8\"], [0.3333333333333333, \"#9c179e\"], [0.4444444444444444, \"#bd3786\"], [0.5555555555555556, \"#d8576b\"], [0.6666666666666666, \"#ed7953\"], [0.7777777777777778, \"#fb9f3a\"], [0.8888888888888888, \"#fdca26\"], [1.0, \"#f0f921\"]], \"sequentialminus\": [[0.0, \"#0d0887\"], [0.1111111111111111, \"#46039f\"], [0.2222222222222222, \"#7201a8\"], [0.3333333333333333, \"#9c179e\"], [0.4444444444444444, \"#bd3786\"], [0.5555555555555556, \"#d8576b\"], [0.6666666666666666, \"#ed7953\"], [0.7777777777777778, \"#fb9f3a\"], [0.8888888888888888, \"#fdca26\"], [1.0, \"#f0f921\"]]}, \"colorway\": [\"#636efa\", \"#EF553B\", \"#00cc96\", \"#ab63fa\", \"#FFA15A\", \"#19d3f3\", \"#FF6692\", \"#B6E880\", \"#FF97FF\", \"#FECB52\"], \"font\": {\"color\": \"#2a3f5f\"}, \"geo\": {\"bgcolor\": \"white\", \"lakecolor\": \"white\", \"landcolor\": \"#E5ECF6\", \"showlakes\": true, \"showland\": true, \"subunitcolor\": \"white\"}, \"hoverlabel\": {\"align\": \"left\"}, \"hovermode\": \"closest\", \"mapbox\": {\"style\": \"light\"}, \"paper_bgcolor\": \"white\", \"plot_bgcolor\": \"#E5ECF6\", \"polar\": {\"angularaxis\": {\"gridcolor\": \"white\", \"linecolor\": \"white\", \"ticks\": \"\"}, \"bgcolor\": \"#E5ECF6\", \"radialaxis\": {\"gridcolor\": \"white\", \"linecolor\": \"white\", \"ticks\": \"\"}}, \"scene\": {\"xaxis\": {\"backgroundcolor\": \"#E5ECF6\", \"gridcolor\": \"white\", \"gridwidth\": 2, \"linecolor\": \"white\", \"showbackground\": true, \"ticks\": \"\", \"zerolinecolor\": \"white\"}, \"yaxis\": {\"backgroundcolor\": \"#E5ECF6\", \"gridcolor\": \"white\", \"gridwidth\": 2, \"linecolor\": \"white\", \"showbackground\": true, \"ticks\": \"\", \"zerolinecolor\": \"white\"}, \"zaxis\": {\"backgroundcolor\": \"#E5ECF6\", \"gridcolor\": \"white\", \"gridwidth\": 2, \"linecolor\": \"white\", \"showbackground\": true, \"ticks\": \"\", \"zerolinecolor\": \"white\"}}, \"shapedefaults\": {\"line\": {\"color\": \"#2a3f5f\"}}, \"ternary\": {\"aaxis\": {\"gridcolor\": \"white\", \"linecolor\": \"white\", \"ticks\": \"\"}, \"baxis\": {\"gridcolor\": \"white\", \"linecolor\": \"white\", \"ticks\": \"\"}, \"bgcolor\": \"#E5ECF6\", \"caxis\": {\"gridcolor\": \"white\", \"linecolor\": \"white\", \"ticks\": \"\"}}, \"title\": {\"x\": 0.05}, \"xaxis\": {\"automargin\": true, \"gridcolor\": \"white\", \"linecolor\": \"white\", \"ticks\": \"\", \"zerolinecolor\": \"white\", \"zerolinewidth\": 2}, \"yaxis\": {\"automargin\": true, \"gridcolor\": \"white\", \"linecolor\": \"white\", \"ticks\": \"\", \"zerolinecolor\": \"white\", \"zerolinewidth\": 2}}}, \"title\": {\"text\": \"Statistics for feature 'debt_to_income'\"}, \"xaxis\": {\"showticklabels\": false, \"tickmode\": \"array\", \"ticktext\": [\"(-inf, 0.2400]\", \"(0.2400, 0.5850]\", \"(0.5850, 0.9250]\", \"(0.9250, 2.9950]\", \"(2.9950, 3.2850]\", \"(3.2850, 3.5750]\", \"(3.5750, 3.8600]\", \"(3.8600, 4.3500]\", \"(4.3500, 5.0250]\", \"(5.0250, 6.5450]\", \"(6.5450, 7.5450]\", \"(7.5450, 7.7850]\", \"(7.7850, 7.9550]\", \"(7.9550, 8.2950]\", \"(8.2950, 8.4650]\", \"(8.4650, 8.6550]\", \"(8.6550, 8.9950]\", \"(8.9950, 9.4850]\", \"(9.4850, 9.7850]\", \"(9.7850, 10.2650]\", \"(10.2650, 10.5950]\", \"(10.5950, 10.7650]\", \"(10.7650, 10.9250]\", \"(10.9250, 12.2250]\", \"(12.2250, 13.8150]\", \"(13.8150, 14.6250]\", \"(14.6250, 15.5950]\", \"(15.5950, 15.7550]\", \"(15.7550, 17.7750]\", \"(17.7750, 17.9750]\", \"(17.9750, 18.2950]\", \"(18.2950, 18.6450]\", \"(18.6450, 18.8150]\", \"(18.8150, 19.0250]\", \"(19.0250, 19.1750]\", \"(19.1750, 19.3350]\", \"(19.3350, 19.5250]\", \"(19.5250, 20.2450]\", \"(20.2450, 20.4200]\", \"(20.4200, 21.3050]\", \"(21.3050, 21.7150]\", \"(21.7150, 22.1200]\", \"(22.1200, 22.3550]\", \"(22.3550, 22.4350]\", \"(22.4350, 22.5250]\", \"(22.5250, 22.7450]\", \"(22.7450, 23.0250]\", \"(23.0250, 23.5550]\", \"(23.5550, 24.0550]\", \"(24.0550, 24.3550]\", \"(24.3550, 24.6550]\", \"(24.6550, 26.1650]\", \"(26.1650, 27.7200]\", \"(27.7200, +inf)\"], \"tickvals\": [0, 1, 2, 3, 4, 5, 6, 7, 8, 9, 10, 11, 12, 13, 14, 15, 16, 17, 18, 19, 20, 21, 22, 23, 24, 25, 26, 27, 28, 29, 30, 31, 32, 33, 34, 35, 36, 37, 38, 39, 40, 41, 42, 43, 44, 45, 46, 47, 48, 49, 50, 51, 52, 53], \"title\": {\"text\": \"Bins\"}}, \"yaxis\": {\"overlaying\": \"y2\", \"side\": \"left\", \"title\": {\"text\": \"Prediction and target\"}}, \"yaxis2\": {\"position\": 1.0, \"side\": \"right\", \"title\": {\"text\": \"Objects per bin\"}}},\n",
              "                        {\"responsive\": true}\n",
              "                    ).then(function(){\n",
              "                            \n",
              "var gd = document.getElementById('ea0d4f8e-937e-4434-a622-7765542d8566');\n",
              "var x = new MutationObserver(function (mutations, observer) {{\n",
              "        var display = window.getComputedStyle(gd).display;\n",
              "        if (!display || display === 'none') {{\n",
              "            console.log([gd, 'removed!']);\n",
              "            Plotly.purge(gd);\n",
              "            observer.disconnect();\n",
              "        }}\n",
              "}});\n",
              "\n",
              "// Listen for the removal of the full notebook cells\n",
              "var notebookContainer = gd.closest('#notebook-container');\n",
              "if (notebookContainer) {{\n",
              "    x.observe(notebookContainer, {childList: true});\n",
              "}}\n",
              "\n",
              "// Listen for the clearing of the current output cell\n",
              "var outputEl = gd.closest('.output');\n",
              "if (outputEl) {{\n",
              "    x.observe(outputEl, {childList: true});\n",
              "}}\n",
              "\n",
              "                        })\n",
              "                };\n",
              "                });\n",
              "            </script>\n",
              "        </div>"
            ],
            "application/vnd.plotly.v1+json": {
              "data": [
                {
                  "name": "Mean target",
                  "yaxis": "y",
                  "mode": "lines+markers",
                  "xaxis": "x",
                  "y": [
                    0.16129031777381897,
                    0.095238097012043,
                    0.08064515888690948,
                    0.09866666793823242,
                    0.22580644488334656,
                    0.0634920671582222,
                    0.11290322244167328,
                    0.15322580933570862,
                    0.13297872245311737,
                    0.13439635932445526,
                    0.08414239436388016,
                    0.109375,
                    0.20000000298023224,
                    0.1269841343164444,
                    0.13846154510974884,
                    0.09677419066429138,
                    0.15079365670681,
                    0.14673912525177002,
                    0.11382114142179489,
                    0.07065217196941376,
                    0.1190476194024086,
                    0.1875,
                    0.12903225421905518,
                    0.11222445219755173,
                    0.12820513546466827,
                    0.14649681746959686,
                    0.13527850806713104,
                    0.06451612710952759,
                    0.1388518065214157,
                    0.2222222238779068,
                    0.16260161995887756,
                    0.1484375,
                    0.1269841343164444,
                    0.09090909361839294,
                    0.1147540956735611,
                    0.12903225421905518,
                    0.140625,
                    0.1260162591934204,
                    0.0793650820851326,
                    0.17670682072639465,
                    0.14960630238056183,
                    0.0901639312505722,
                    0.1269841343164444,
                    0.15625,
                    0.11428571492433548,
                    0.1269841343164444,
                    0.19354838132858276,
                    0.09756097197532654,
                    0.17599999904632568,
                    0.14516128599643707,
                    0.1587301641702652,
                    0.15322580933570862,
                    0.0793650820851326,
                    0.1428571492433548
                  ],
                  "type": "scatter"
                },
                {
                  "name": "Mean prediction on each segment of feature values",
                  "yaxis": "y",
                  "mode": "lines+markers",
                  "xaxis": "x",
                  "y": [
                    0.12868063151836395,
                    0.10210713744163513,
                    0.09761864691972733,
                    0.11178465932607651,
                    0.13335531949996948,
                    0.08797776699066162,
                    0.13580438494682312,
                    0.1323717087507248,
                    0.11737130582332611,
                    0.1263817697763443,
                    0.10500222444534302,
                    0.10256866365671158,
                    0.12831267714500427,
                    0.12745505571365356,
                    0.09790490567684174,
                    0.1018163338303566,
                    0.1385505646467209,
                    0.11611239612102509,
                    0.12320330739021301,
                    0.13279756903648376,
                    0.11803682893514633,
                    0.1503818780183792,
                    0.12984000146389008,
                    0.1251990795135498,
                    0.1233980804681778,
                    0.1339283287525177,
                    0.14098826050758362,
                    0.12824489176273346,
                    0.1338891237974167,
                    0.15955333411693573,
                    0.15451720356941223,
                    0.1295873075723648,
                    0.14956951141357422,
                    0.11286042630672455,
                    0.13740447163581848,
                    0.15670357644557953,
                    0.14447517693042755,
                    0.12620273232460022,
                    0.11850900948047638,
                    0.16133429110050201,
                    0.1372475028038025,
                    0.12753792107105255,
                    0.14393536746501923,
                    0.11889026314020157,
                    0.15656335651874542,
                    0.14618122577667236,
                    0.15683308243751526,
                    0.13357415795326233,
                    0.15233226120471954,
                    0.14763502776622772,
                    0.1633385270833969,
                    0.13888412714004517,
                    0.10533519089221954,
                    0.13891994953155518
                  ],
                  "type": "scatter"
                },
                {
                  "name": "Objects per bin",
                  "yaxis": "y2",
                  "y": [
                    62,
                    63,
                    62,
                    375,
                    62,
                    63,
                    62,
                    124,
                    188,
                    439,
                    309,
                    64,
                    65,
                    126,
                    65,
                    62,
                    126,
                    184,
                    123,
                    184,
                    126,
                    64,
                    62,
                    499,
                    624,
                    314,
                    377,
                    62,
                    749,
                    63,
                    123,
                    128,
                    63,
                    66,
                    61,
                    62,
                    64,
                    246,
                    63,
                    249,
                    127,
                    122,
                    63,
                    32,
                    35,
                    63,
                    62,
                    123,
                    125,
                    62,
                    63,
                    124,
                    63,
                    63
                  ],
                  "width": 0.8,
                  "xaxis": "x",
                  "marker": {
                    "color": "rgba(30, 150, 30, 0.4)"
                  },
                  "type": "bar"
                },
                {
                  "name": "Mean prediction with substituted feature",
                  "yaxis": "y",
                  "mode": "lines+markers",
                  "xaxis": "x",
                  "y": [
                    0.13100121341305707,
                    0.13107207877667731,
                    0.13067318904607422,
                    0.13086215550025646,
                    0.13169362275777816,
                    0.13112798171010723,
                    0.13116501437236894,
                    0.13090063704794297,
                    0.13093620966662428,
                    0.13074116707690775,
                    0.13046286402461219,
                    0.1304814604848884,
                    0.13072035487574843,
                    0.1303905008724149,
                    0.13036894650046055,
                    0.12949828903064567,
                    0.1293995035168583,
                    0.1293951081871836,
                    0.1292029214356129,
                    0.12905056971545228,
                    0.12908909999919105,
                    0.12909696393963452,
                    0.12932719093010853,
                    0.12926710861925733,
                    0.12928430481348793,
                    0.12929051971053188,
                    0.12918866225324008,
                    0.1291346668538231,
                    0.12928925053960533,
                    0.12932524115376284,
                    0.12919467127061351,
                    0.12910845560988196,
                    0.1287620231557408,
                    0.12860822207697398,
                    0.12847529169048716,
                    0.12821297996759715,
                    0.12827998732181115,
                    0.12819457689285058,
                    0.12812255657945043,
                    0.12815423901113782,
                    0.1280047541565223,
                    0.12743988661348046,
                    0.1271565930286263,
                    0.12729110843199878,
                    0.12727457105620413,
                    0.12726232457693906,
                    0.1275210808551616,
                    0.12737978499041414,
                    0.12770011003902446,
                    0.1281458176146937,
                    0.12830732600911898,
                    0.12881168251771555,
                    0.12708362677375842,
                    0.12708362677375842
                  ],
                  "type": "scatter"
                }
              ],
              "config": {
                "plotlyServerURL": "https://plot.ly",
                "linkText": "Export to plot.ly",
                "showLink": false
              },
              "layout": {
                "yaxis2": {
                  "position": 1,
                  "side": "right",
                  "title": {
                    "text": "Objects per bin"
                  }
                },
                "yaxis": {
                  "overlaying": "y2",
                  "side": "left",
                  "title": {
                    "text": "Prediction and target"
                  }
                },
                "xaxis": {
                  "title": {
                    "text": "Bins"
                  },
                  "ticktext": [
                    "(-inf, 0.2400]",
                    "(0.2400, 0.5850]",
                    "(0.5850, 0.9250]",
                    "(0.9250, 2.9950]",
                    "(2.9950, 3.2850]",
                    "(3.2850, 3.5750]",
                    "(3.5750, 3.8600]",
                    "(3.8600, 4.3500]",
                    "(4.3500, 5.0250]",
                    "(5.0250, 6.5450]",
                    "(6.5450, 7.5450]",
                    "(7.5450, 7.7850]",
                    "(7.7850, 7.9550]",
                    "(7.9550, 8.2950]",
                    "(8.2950, 8.4650]",
                    "(8.4650, 8.6550]",
                    "(8.6550, 8.9950]",
                    "(8.9950, 9.4850]",
                    "(9.4850, 9.7850]",
                    "(9.7850, 10.2650]",
                    "(10.2650, 10.5950]",
                    "(10.5950, 10.7650]",
                    "(10.7650, 10.9250]",
                    "(10.9250, 12.2250]",
                    "(12.2250, 13.8150]",
                    "(13.8150, 14.6250]",
                    "(14.6250, 15.5950]",
                    "(15.5950, 15.7550]",
                    "(15.7550, 17.7750]",
                    "(17.7750, 17.9750]",
                    "(17.9750, 18.2950]",
                    "(18.2950, 18.6450]",
                    "(18.6450, 18.8150]",
                    "(18.8150, 19.0250]",
                    "(19.0250, 19.1750]",
                    "(19.1750, 19.3350]",
                    "(19.3350, 19.5250]",
                    "(19.5250, 20.2450]",
                    "(20.2450, 20.4200]",
                    "(20.4200, 21.3050]",
                    "(21.3050, 21.7150]",
                    "(21.7150, 22.1200]",
                    "(22.1200, 22.3550]",
                    "(22.3550, 22.4350]",
                    "(22.4350, 22.5250]",
                    "(22.5250, 22.7450]",
                    "(22.7450, 23.0250]",
                    "(23.0250, 23.5550]",
                    "(23.5550, 24.0550]",
                    "(24.0550, 24.3550]",
                    "(24.3550, 24.6550]",
                    "(24.6550, 26.1650]",
                    "(26.1650, 27.7200]",
                    "(27.7200, +inf)"
                  ],
                  "showticklabels": false,
                  "tickmode": "array",
                  "tickvals": [
                    0,
                    1,
                    2,
                    3,
                    4,
                    5,
                    6,
                    7,
                    8,
                    9,
                    10,
                    11,
                    12,
                    13,
                    14,
                    15,
                    16,
                    17,
                    18,
                    19,
                    20,
                    21,
                    22,
                    23,
                    24,
                    25,
                    26,
                    27,
                    28,
                    29,
                    30,
                    31,
                    32,
                    33,
                    34,
                    35,
                    36,
                    37,
                    38,
                    39,
                    40,
                    41,
                    42,
                    43,
                    44,
                    45,
                    46,
                    47,
                    48,
                    49,
                    50,
                    51,
                    52,
                    53
                  ]
                },
                "template": {
                  "layout": {
                    "shapedefaults": {
                      "line": {
                        "color": "#2a3f5f"
                      }
                    },
                    "polar": {
                      "radialaxis": {
                        "ticks": "",
                        "gridcolor": "white",
                        "linecolor": "white"
                      },
                      "bgcolor": "#E5ECF6",
                      "angularaxis": {
                        "ticks": "",
                        "gridcolor": "white",
                        "linecolor": "white"
                      }
                    },
                    "colorway": [
                      "#636efa",
                      "#EF553B",
                      "#00cc96",
                      "#ab63fa",
                      "#FFA15A",
                      "#19d3f3",
                      "#FF6692",
                      "#B6E880",
                      "#FF97FF",
                      "#FECB52"
                    ],
                    "xaxis": {
                      "automargin": true,
                      "zerolinewidth": 2,
                      "ticks": "",
                      "zerolinecolor": "white",
                      "gridcolor": "white",
                      "linecolor": "white"
                    },
                    "colorscale": {
                      "diverging": [
                        [
                          0,
                          "#8e0152"
                        ],
                        [
                          0.1,
                          "#c51b7d"
                        ],
                        [
                          0.2,
                          "#de77ae"
                        ],
                        [
                          0.3,
                          "#f1b6da"
                        ],
                        [
                          0.4,
                          "#fde0ef"
                        ],
                        [
                          0.5,
                          "#f7f7f7"
                        ],
                        [
                          0.6,
                          "#e6f5d0"
                        ],
                        [
                          0.7,
                          "#b8e186"
                        ],
                        [
                          0.8,
                          "#7fbc41"
                        ],
                        [
                          0.9,
                          "#4d9221"
                        ],
                        [
                          1,
                          "#276419"
                        ]
                      ],
                      "sequential": [
                        [
                          0,
                          "#0d0887"
                        ],
                        [
                          0.1111111111111111,
                          "#46039f"
                        ],
                        [
                          0.2222222222222222,
                          "#7201a8"
                        ],
                        [
                          0.3333333333333333,
                          "#9c179e"
                        ],
                        [
                          0.4444444444444444,
                          "#bd3786"
                        ],
                        [
                          0.5555555555555556,
                          "#d8576b"
                        ],
                        [
                          0.6666666666666666,
                          "#ed7953"
                        ],
                        [
                          0.7777777777777778,
                          "#fb9f3a"
                        ],
                        [
                          0.8888888888888888,
                          "#fdca26"
                        ],
                        [
                          1,
                          "#f0f921"
                        ]
                      ],
                      "sequentialminus": [
                        [
                          0,
                          "#0d0887"
                        ],
                        [
                          0.1111111111111111,
                          "#46039f"
                        ],
                        [
                          0.2222222222222222,
                          "#7201a8"
                        ],
                        [
                          0.3333333333333333,
                          "#9c179e"
                        ],
                        [
                          0.4444444444444444,
                          "#bd3786"
                        ],
                        [
                          0.5555555555555556,
                          "#d8576b"
                        ],
                        [
                          0.6666666666666666,
                          "#ed7953"
                        ],
                        [
                          0.7777777777777778,
                          "#fb9f3a"
                        ],
                        [
                          0.8888888888888888,
                          "#fdca26"
                        ],
                        [
                          1,
                          "#f0f921"
                        ]
                      ]
                    },
                    "paper_bgcolor": "white",
                    "plot_bgcolor": "#E5ECF6",
                    "title": {
                      "x": 0.05
                    },
                    "scene": {
                      "zaxis": {
                        "backgroundcolor": "#E5ECF6",
                        "ticks": "",
                        "gridwidth": 2,
                        "showbackground": true,
                        "zerolinecolor": "white",
                        "gridcolor": "white",
                        "linecolor": "white"
                      },
                      "xaxis": {
                        "backgroundcolor": "#E5ECF6",
                        "ticks": "",
                        "gridwidth": 2,
                        "showbackground": true,
                        "zerolinecolor": "white",
                        "gridcolor": "white",
                        "linecolor": "white"
                      },
                      "yaxis": {
                        "backgroundcolor": "#E5ECF6",
                        "ticks": "",
                        "gridwidth": 2,
                        "showbackground": true,
                        "zerolinecolor": "white",
                        "gridcolor": "white",
                        "linecolor": "white"
                      }
                    },
                    "yaxis": {
                      "automargin": true,
                      "zerolinewidth": 2,
                      "ticks": "",
                      "zerolinecolor": "white",
                      "gridcolor": "white",
                      "linecolor": "white"
                    },
                    "hoverlabel": {
                      "align": "left"
                    },
                    "ternary": {
                      "bgcolor": "#E5ECF6",
                      "baxis": {
                        "ticks": "",
                        "gridcolor": "white",
                        "linecolor": "white"
                      },
                      "caxis": {
                        "ticks": "",
                        "gridcolor": "white",
                        "linecolor": "white"
                      },
                      "aaxis": {
                        "ticks": "",
                        "gridcolor": "white",
                        "linecolor": "white"
                      }
                    },
                    "mapbox": {
                      "style": "light"
                    },
                    "hovermode": "closest",
                    "font": {
                      "color": "#2a3f5f"
                    },
                    "geo": {
                      "showland": true,
                      "landcolor": "#E5ECF6",
                      "showlakes": true,
                      "bgcolor": "white",
                      "subunitcolor": "white",
                      "lakecolor": "white"
                    },
                    "annotationdefaults": {
                      "arrowwidth": 1,
                      "arrowhead": 0,
                      "arrowcolor": "#2a3f5f"
                    }
                  },
                  "data": {
                    "mesh3d": [
                      {
                        "colorbar": {
                          "outlinewidth": 0,
                          "ticks": ""
                        },
                        "type": "mesh3d"
                      }
                    ],
                    "scattercarpet": [
                      {
                        "marker": {
                          "colorbar": {
                            "outlinewidth": 0,
                            "ticks": ""
                          }
                        },
                        "type": "scattercarpet"
                      }
                    ],
                    "scatterternary": [
                      {
                        "marker": {
                          "colorbar": {
                            "outlinewidth": 0,
                            "ticks": ""
                          }
                        },
                        "type": "scatterternary"
                      }
                    ],
                    "surface": [
                      {
                        "colorbar": {
                          "outlinewidth": 0,
                          "ticks": ""
                        },
                        "type": "surface",
                        "colorscale": [
                          [
                            0,
                            "#0d0887"
                          ],
                          [
                            0.1111111111111111,
                            "#46039f"
                          ],
                          [
                            0.2222222222222222,
                            "#7201a8"
                          ],
                          [
                            0.3333333333333333,
                            "#9c179e"
                          ],
                          [
                            0.4444444444444444,
                            "#bd3786"
                          ],
                          [
                            0.5555555555555556,
                            "#d8576b"
                          ],
                          [
                            0.6666666666666666,
                            "#ed7953"
                          ],
                          [
                            0.7777777777777778,
                            "#fb9f3a"
                          ],
                          [
                            0.8888888888888888,
                            "#fdca26"
                          ],
                          [
                            1,
                            "#f0f921"
                          ]
                        ]
                      }
                    ],
                    "table": [
                      {
                        "header": {
                          "line": {
                            "color": "white"
                          },
                          "fill": {
                            "color": "#C8D4E3"
                          }
                        },
                        "cells": {
                          "line": {
                            "color": "white"
                          },
                          "fill": {
                            "color": "#EBF0F8"
                          }
                        },
                        "type": "table"
                      }
                    ],
                    "scatterpolargl": [
                      {
                        "marker": {
                          "colorbar": {
                            "outlinewidth": 0,
                            "ticks": ""
                          }
                        },
                        "type": "scatterpolargl"
                      }
                    ],
                    "contour": [
                      {
                        "colorbar": {
                          "outlinewidth": 0,
                          "ticks": ""
                        },
                        "type": "contour",
                        "colorscale": [
                          [
                            0,
                            "#0d0887"
                          ],
                          [
                            0.1111111111111111,
                            "#46039f"
                          ],
                          [
                            0.2222222222222222,
                            "#7201a8"
                          ],
                          [
                            0.3333333333333333,
                            "#9c179e"
                          ],
                          [
                            0.4444444444444444,
                            "#bd3786"
                          ],
                          [
                            0.5555555555555556,
                            "#d8576b"
                          ],
                          [
                            0.6666666666666666,
                            "#ed7953"
                          ],
                          [
                            0.7777777777777778,
                            "#fb9f3a"
                          ],
                          [
                            0.8888888888888888,
                            "#fdca26"
                          ],
                          [
                            1,
                            "#f0f921"
                          ]
                        ]
                      }
                    ],
                    "carpet": [
                      {
                        "type": "carpet",
                        "baxis": {
                          "minorgridcolor": "white",
                          "gridcolor": "white",
                          "linecolor": "white",
                          "endlinecolor": "#2a3f5f",
                          "startlinecolor": "#2a3f5f"
                        },
                        "aaxis": {
                          "minorgridcolor": "white",
                          "gridcolor": "white",
                          "linecolor": "white",
                          "endlinecolor": "#2a3f5f",
                          "startlinecolor": "#2a3f5f"
                        }
                      }
                    ],
                    "contourcarpet": [
                      {
                        "colorbar": {
                          "outlinewidth": 0,
                          "ticks": ""
                        },
                        "type": "contourcarpet"
                      }
                    ],
                    "heatmap": [
                      {
                        "colorbar": {
                          "outlinewidth": 0,
                          "ticks": ""
                        },
                        "type": "heatmap",
                        "colorscale": [
                          [
                            0,
                            "#0d0887"
                          ],
                          [
                            0.1111111111111111,
                            "#46039f"
                          ],
                          [
                            0.2222222222222222,
                            "#7201a8"
                          ],
                          [
                            0.3333333333333333,
                            "#9c179e"
                          ],
                          [
                            0.4444444444444444,
                            "#bd3786"
                          ],
                          [
                            0.5555555555555556,
                            "#d8576b"
                          ],
                          [
                            0.6666666666666666,
                            "#ed7953"
                          ],
                          [
                            0.7777777777777778,
                            "#fb9f3a"
                          ],
                          [
                            0.8888888888888888,
                            "#fdca26"
                          ],
                          [
                            1,
                            "#f0f921"
                          ]
                        ]
                      }
                    ],
                    "scattermapbox": [
                      {
                        "marker": {
                          "colorbar": {
                            "outlinewidth": 0,
                            "ticks": ""
                          }
                        },
                        "type": "scattermapbox"
                      }
                    ],
                    "scatter3d": [
                      {
                        "marker": {
                          "colorbar": {
                            "outlinewidth": 0,
                            "ticks": ""
                          }
                        },
                        "line": {
                          "colorbar": {
                            "outlinewidth": 0,
                            "ticks": ""
                          }
                        },
                        "type": "scatter3d"
                      }
                    ],
                    "scattergl": [
                      {
                        "marker": {
                          "colorbar": {
                            "outlinewidth": 0,
                            "ticks": ""
                          }
                        },
                        "type": "scattergl"
                      }
                    ],
                    "histogram": [
                      {
                        "marker": {
                          "colorbar": {
                            "outlinewidth": 0,
                            "ticks": ""
                          }
                        },
                        "type": "histogram"
                      }
                    ],
                    "heatmapgl": [
                      {
                        "colorbar": {
                          "outlinewidth": 0,
                          "ticks": ""
                        },
                        "type": "heatmapgl",
                        "colorscale": [
                          [
                            0,
                            "#0d0887"
                          ],
                          [
                            0.1111111111111111,
                            "#46039f"
                          ],
                          [
                            0.2222222222222222,
                            "#7201a8"
                          ],
                          [
                            0.3333333333333333,
                            "#9c179e"
                          ],
                          [
                            0.4444444444444444,
                            "#bd3786"
                          ],
                          [
                            0.5555555555555556,
                            "#d8576b"
                          ],
                          [
                            0.6666666666666666,
                            "#ed7953"
                          ],
                          [
                            0.7777777777777778,
                            "#fb9f3a"
                          ],
                          [
                            0.8888888888888888,
                            "#fdca26"
                          ],
                          [
                            1,
                            "#f0f921"
                          ]
                        ]
                      }
                    ],
                    "scatterpolar": [
                      {
                        "marker": {
                          "colorbar": {
                            "outlinewidth": 0,
                            "ticks": ""
                          }
                        },
                        "type": "scatterpolar"
                      }
                    ],
                    "histogram2d": [
                      {
                        "colorbar": {
                          "outlinewidth": 0,
                          "ticks": ""
                        },
                        "type": "histogram2d",
                        "colorscale": [
                          [
                            0,
                            "#0d0887"
                          ],
                          [
                            0.1111111111111111,
                            "#46039f"
                          ],
                          [
                            0.2222222222222222,
                            "#7201a8"
                          ],
                          [
                            0.3333333333333333,
                            "#9c179e"
                          ],
                          [
                            0.4444444444444444,
                            "#bd3786"
                          ],
                          [
                            0.5555555555555556,
                            "#d8576b"
                          ],
                          [
                            0.6666666666666666,
                            "#ed7953"
                          ],
                          [
                            0.7777777777777778,
                            "#fb9f3a"
                          ],
                          [
                            0.8888888888888888,
                            "#fdca26"
                          ],
                          [
                            1,
                            "#f0f921"
                          ]
                        ]
                      }
                    ],
                    "scattergeo": [
                      {
                        "marker": {
                          "colorbar": {
                            "outlinewidth": 0,
                            "ticks": ""
                          }
                        },
                        "type": "scattergeo"
                      }
                    ],
                    "bar": [
                      {
                        "marker": {
                          "line": {
                            "color": "#E5ECF6",
                            "width": 0.5
                          }
                        },
                        "type": "bar",
                        "error_x": {
                          "color": "#2a3f5f"
                        },
                        "error_y": {
                          "color": "#2a3f5f"
                        }
                      }
                    ],
                    "choropleth": [
                      {
                        "colorbar": {
                          "outlinewidth": 0,
                          "ticks": ""
                        },
                        "type": "choropleth"
                      }
                    ],
                    "parcoords": [
                      {
                        "line": {
                          "colorbar": {
                            "outlinewidth": 0,
                            "ticks": ""
                          }
                        },
                        "type": "parcoords"
                      }
                    ],
                    "barpolar": [
                      {
                        "marker": {
                          "line": {
                            "color": "#E5ECF6",
                            "width": 0.5
                          }
                        },
                        "type": "barpolar"
                      }
                    ],
                    "histogram2dcontour": [
                      {
                        "colorbar": {
                          "outlinewidth": 0,
                          "ticks": ""
                        },
                        "type": "histogram2dcontour",
                        "colorscale": [
                          [
                            0,
                            "#0d0887"
                          ],
                          [
                            0.1111111111111111,
                            "#46039f"
                          ],
                          [
                            0.2222222222222222,
                            "#7201a8"
                          ],
                          [
                            0.3333333333333333,
                            "#9c179e"
                          ],
                          [
                            0.4444444444444444,
                            "#bd3786"
                          ],
                          [
                            0.5555555555555556,
                            "#d8576b"
                          ],
                          [
                            0.6666666666666666,
                            "#ed7953"
                          ],
                          [
                            0.7777777777777778,
                            "#fb9f3a"
                          ],
                          [
                            0.8888888888888888,
                            "#fdca26"
                          ],
                          [
                            1,
                            "#f0f921"
                          ]
                        ]
                      }
                    ],
                    "scatter": [
                      {
                        "marker": {
                          "colorbar": {
                            "outlinewidth": 0,
                            "ticks": ""
                          }
                        },
                        "type": "scatter"
                      }
                    ]
                  }
                },
                "title": {
                  "text": "Statistics for feature 'debt_to_income'"
                }
              }
            }
          },
          "metadata": {
            "tags": []
          }
        }
      ]
    }
  ]
}