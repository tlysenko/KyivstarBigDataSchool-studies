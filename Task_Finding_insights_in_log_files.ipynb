{
  "nbformat": 4,
  "nbformat_minor": 0,
  "metadata": {
    "colab": {
      "name": "Task. Finding insights in log files.ipynb",
      "provenance": [],
      "toc_visible": true,
      "machine_shape": "hm",
      "include_colab_link": true
    },
    "kernelspec": {
      "name": "python3",
      "display_name": "Python 3"
    }
  },
  "cells": [
    {
      "cell_type": "markdown",
      "metadata": {
        "id": "view-in-github",
        "colab_type": "text"
      },
      "source": [
        "<a href=\"https://colab.research.google.com/github/tlysenko/KyivstarBigDataSchool-studies/blob/master/Task_Finding_insights_in_log_files.ipynb\" target=\"_parent\"><img src=\"https://colab.research.google.com/assets/colab-badge.svg\" alt=\"Open In Colab\"/></a>"
      ]
    },
    {
      "cell_type": "markdown",
      "metadata": {
        "id": "lgy2R31UsL25",
        "colab_type": "text"
      },
      "source": [
        "## Importing the libraries"
      ]
    },
    {
      "cell_type": "code",
      "metadata": {
        "id": "W6zwONRwf8Zy",
        "colab_type": "code",
        "colab": {}
      },
      "source": [
        "import pandas as pd\n",
        "import matplotlib.pyplot as plt\n",
        "import seaborn as sns"
      ],
      "execution_count": 0,
      "outputs": []
    },
    {
      "cell_type": "markdown",
      "metadata": {
        "id": "Nc71Uj3pZqOG",
        "colab_type": "text"
      },
      "source": [
        "## Downloading the data"
      ]
    },
    {
      "cell_type": "code",
      "metadata": {
        "id": "LZsvd7giWrfk",
        "colab_type": "code",
        "outputId": "6244c6c0-f7d0-4f3c-a5b4-64f8ea2d5dea",
        "colab": {
          "base_uri": "https://localhost:8080/",
          "height": 54
        }
      },
      "source": [
        "#Mounting GoogleDrive\n",
        "from google.colab import drive\n",
        "drive.mount('/content/drive')"
      ],
      "execution_count": 0,
      "outputs": [
        {
          "output_type": "stream",
          "text": [
            "Drive already mounted at /content/drive; to attempt to forcibly remount, call drive.mount(\"/content/drive\", force_remount=True).\n"
          ],
          "name": "stdout"
        }
      ]
    },
    {
      "cell_type": "code",
      "metadata": {
        "id": "W3zZJ980XR1c",
        "colab_type": "code",
        "colab": {}
      },
      "source": [
        "# user.csv\n",
        "df_usr = pd.read_csv('/content/drive/My Drive/Datasets/exam/files/performance-issue/users.csv', sep = ',', header= None)\n",
        "df_usr.columns = ['usr_id', 'comp_id', 'comp_name']"
      ],
      "execution_count": 0,
      "outputs": []
    },
    {
      "cell_type": "code",
      "metadata": {
        "id": "LWCJ265xkkgN",
        "colab_type": "code",
        "colab": {}
      },
      "source": [
        "# performance.csv\n",
        "all_lines=[]\n",
        "with open(\"/content/drive/My Drive/Datasets/exam/files/performance-issue/performance.csv\") as f:\n",
        "  for line in f:\n",
        "    line = line.split(',')\n",
        "    \n",
        "    new_line = [pd.Timestamp(line[0]).to_pydatetime(), \\\n",
        "                int(line[1]), \\\n",
        "                int(line[2]), \\\n",
        "                str(line[3]), \\\n",
        "                str(line[4]), \\\n",
        "                str(line[5].split('\\n')[0])]\n",
        "    all_lines.append(new_line)\n",
        "\n",
        "df_pr = pd.DataFrame(all_lines)\n",
        "df_pr.columns = ['time_stamp','proc_time', 'response_code', 'request_type', 'request_uri','usr_id']"
      ],
      "execution_count": 0,
      "outputs": []
    },
    {
      "cell_type": "markdown",
      "metadata": {
        "id": "SLlWOfu_ZdJH",
        "colab_type": "text"
      },
      "source": [
        "# Exploratory Data Analysis"
      ]
    },
    {
      "cell_type": "markdown",
      "metadata": {
        "id": "cH9LDjZioWMp",
        "colab_type": "text"
      },
      "source": [
        "## Genreal information: file users.csv"
      ]
    },
    {
      "cell_type": "code",
      "metadata": {
        "colab_type": "code",
        "outputId": "69d7eb11-c363-41a5-abdf-d182c81dc628",
        "id": "u5ZCsRRqoVrB",
        "colab": {
          "base_uri": "https://localhost:8080/",
          "height": 204
        }
      },
      "source": [
        "df_usr.head()"
      ],
      "execution_count": 0,
      "outputs": [
        {
          "output_type": "execute_result",
          "data": {
            "text/html": [
              "<div>\n",
              "<style scoped>\n",
              "    .dataframe tbody tr th:only-of-type {\n",
              "        vertical-align: middle;\n",
              "    }\n",
              "\n",
              "    .dataframe tbody tr th {\n",
              "        vertical-align: top;\n",
              "    }\n",
              "\n",
              "    .dataframe thead th {\n",
              "        text-align: right;\n",
              "    }\n",
              "</style>\n",
              "<table border=\"1\" class=\"dataframe\">\n",
              "  <thead>\n",
              "    <tr style=\"text-align: right;\">\n",
              "      <th></th>\n",
              "      <th>usr_id</th>\n",
              "      <th>comp_id</th>\n",
              "      <th>comp_name</th>\n",
              "    </tr>\n",
              "  </thead>\n",
              "  <tbody>\n",
              "    <tr>\n",
              "      <th>0</th>\n",
              "      <td>1</td>\n",
              "      <td>1</td>\n",
              "      <td>company_1</td>\n",
              "    </tr>\n",
              "    <tr>\n",
              "      <th>1</th>\n",
              "      <td>2</td>\n",
              "      <td>1</td>\n",
              "      <td>company_1</td>\n",
              "    </tr>\n",
              "    <tr>\n",
              "      <th>2</th>\n",
              "      <td>4</td>\n",
              "      <td>1</td>\n",
              "      <td>company_1</td>\n",
              "    </tr>\n",
              "    <tr>\n",
              "      <th>3</th>\n",
              "      <td>5</td>\n",
              "      <td>1</td>\n",
              "      <td>company_1</td>\n",
              "    </tr>\n",
              "    <tr>\n",
              "      <th>4</th>\n",
              "      <td>11</td>\n",
              "      <td>6</td>\n",
              "      <td>company_6</td>\n",
              "    </tr>\n",
              "  </tbody>\n",
              "</table>\n",
              "</div>"
            ],
            "text/plain": [
              "   usr_id  comp_id  comp_name\n",
              "0       1        1  company_1\n",
              "1       2        1  company_1\n",
              "2       4        1  company_1\n",
              "3       5        1  company_1\n",
              "4      11        6  company_6"
            ]
          },
          "metadata": {
            "tags": []
          },
          "execution_count": 12
        }
      ]
    },
    {
      "cell_type": "code",
      "metadata": {
        "id": "zjiO6KSzgCsK",
        "colab_type": "code",
        "outputId": "57e2aa12-6c21-46e1-c458-436611c5eb5c",
        "colab": {
          "base_uri": "https://localhost:8080/",
          "height": 34
        }
      },
      "source": [
        "#Number of users\n",
        "len(set(df_usr['usr_id']))"
      ],
      "execution_count": 0,
      "outputs": [
        {
          "output_type": "execute_result",
          "data": {
            "text/plain": [
              "62429"
            ]
          },
          "metadata": {
            "tags": []
          },
          "execution_count": 13
        }
      ]
    },
    {
      "cell_type": "code",
      "metadata": {
        "id": "ycPbt9HMgYeo",
        "colab_type": "code",
        "outputId": "218d836c-57f5-46d1-f1c2-044829627d7f",
        "colab": {
          "base_uri": "https://localhost:8080/",
          "height": 34
        }
      },
      "source": [
        "#Number of companies\n",
        "len(set(df_usr['comp_id'])) , len(set(df_usr['comp_id']))"
      ],
      "execution_count": 0,
      "outputs": [
        {
          "output_type": "execute_result",
          "data": {
            "text/plain": [
              "(19053, 19053)"
            ]
          },
          "metadata": {
            "tags": []
          },
          "execution_count": 16
        }
      ]
    },
    {
      "cell_type": "markdown",
      "metadata": {
        "id": "AV1bMC9OveDe",
        "colab_type": "text"
      },
      "source": [
        "## General information: file performance.csv"
      ]
    },
    {
      "cell_type": "code",
      "metadata": {
        "id": "dVbUtzM4olBI",
        "colab_type": "code",
        "outputId": "b6f33e8f-761b-471b-abcd-bb5aae266368",
        "colab": {
          "base_uri": "https://localhost:8080/",
          "height": 34
        }
      },
      "source": [
        "df_pr.shape"
      ],
      "execution_count": 0,
      "outputs": [
        {
          "output_type": "execute_result",
          "data": {
            "text/plain": [
              "(9514094, 6)"
            ]
          },
          "metadata": {
            "tags": []
          },
          "execution_count": 17
        }
      ]
    },
    {
      "cell_type": "code",
      "metadata": {
        "id": "c84ZpgYooo-c",
        "colab_type": "code",
        "outputId": "75b5a38d-22ee-415d-ae05-64cc1e0250fe",
        "colab": {
          "base_uri": "https://localhost:8080/",
          "height": 204
        }
      },
      "source": [
        "df_pr.info()"
      ],
      "execution_count": 0,
      "outputs": [
        {
          "output_type": "stream",
          "text": [
            "<class 'pandas.core.frame.DataFrame'>\n",
            "RangeIndex: 9514094 entries, 0 to 9514093\n",
            "Data columns (total 6 columns):\n",
            "time_stamp       datetime64[ns]\n",
            "proc_time        int64\n",
            "response_code    int64\n",
            "request_type     object\n",
            "request_uri      object\n",
            "usr_id           object\n",
            "dtypes: datetime64[ns](1), int64(2), object(3)\n",
            "memory usage: 435.5+ MB\n"
          ],
          "name": "stdout"
        }
      ]
    },
    {
      "cell_type": "markdown",
      "metadata": {
        "id": "1OqKDzA4v4Tt",
        "colab_type": "text"
      },
      "source": [
        "## Understanding the response codes"
      ]
    },
    {
      "cell_type": "code",
      "metadata": {
        "id": "s5wau3Waotz0",
        "colab_type": "code",
        "outputId": "a958f01b-1668-4d4c-c682-9fb50f709aa9",
        "colab": {
          "base_uri": "https://localhost:8080/",
          "height": 255
        }
      },
      "source": [
        "# Response codes, absolute values\n",
        "df_pr['response_code'].value_counts()"
      ],
      "execution_count": 0,
      "outputs": [
        {
          "output_type": "execute_result",
          "data": {
            "text/plain": [
              "200    8933017\n",
              "401     294647\n",
              "404     100645\n",
              "302     100419\n",
              "304      51295\n",
              "403      19832\n",
              "400       4473\n",
              "409       3767\n",
              "405       2231\n",
              "406       2209\n",
              "500       1265\n",
              "204        268\n",
              "416         26\n",
              "Name: response_code, dtype: int64"
            ]
          },
          "metadata": {
            "tags": []
          },
          "execution_count": 20
        }
      ]
    },
    {
      "cell_type": "code",
      "metadata": {
        "id": "uXHALQhBsZQH",
        "colab_type": "code",
        "outputId": "667f33b9-ca7f-4aca-cd1d-48acac92f737",
        "colab": {
          "base_uri": "https://localhost:8080/",
          "height": 255
        }
      },
      "source": [
        "# Response code, percentages from total\n",
        "df_pr['response_code'].value_counts()/df_pr.shape[0]"
      ],
      "execution_count": 0,
      "outputs": [
        {
          "output_type": "execute_result",
          "data": {
            "text/plain": [
              "200    0.938925\n",
              "401    0.030970\n",
              "404    0.010579\n",
              "302    0.010555\n",
              "304    0.005391\n",
              "403    0.002084\n",
              "400    0.000470\n",
              "409    0.000396\n",
              "405    0.000234\n",
              "406    0.000232\n",
              "500    0.000133\n",
              "204    0.000028\n",
              "416    0.000003\n",
              "Name: response_code, dtype: float64"
            ]
          },
          "metadata": {
            "tags": []
          },
          "execution_count": 31
        }
      ]
    },
    {
      "cell_type": "markdown",
      "metadata": {
        "id": "OfsxYNjouXTX",
        "colab_type": "text"
      },
      "source": [
        "* 200: The server successfully processed the request and is not returning any content\n",
        "* 401: Unauthorized Error\n",
        "* 404: Page not found\n",
        "* 302: resource requested has been temporarily moved to the URL given by the Location header.\n",
        "* 304: Not Modified.\n",
        "* 403: Request forbidden\n",
        "* 204: No content\n",
        "* 400: Bad Request response status code \n",
        "* 500: internal server error"
      ]
    },
    {
      "cell_type": "markdown",
      "metadata": {
        "id": "kMw_WYvKuTUW",
        "colab_type": "text"
      },
      "source": [
        "## Understanding processing time delays"
      ]
    },
    {
      "cell_type": "code",
      "metadata": {
        "id": "J3sxP2dvr6VJ",
        "colab_type": "code",
        "outputId": "edeb40c9-c215-43cf-98fc-ef5e917133fe",
        "colab": {
          "base_uri": "https://localhost:8080/",
          "height": 268
        }
      },
      "source": [
        "sns.boxplot(data=df_pr, y = 'proc_time');\n",
        "plt.title('Processing time');"
      ],
      "execution_count": 0,
      "outputs": [
        {
          "output_type": "display_data",
          "data": {
            "image/png": "[encoded data removed]",
            "text/plain": [
              "<Figure size 432x288 with 1 Axes>"
            ]
          },
          "metadata": {
            "tags": []
          }
        }
      ]
    },
    {
      "cell_type": "markdown",
      "metadata": {
        "id": "XdOJTNI1sQ_3",
        "colab_type": "text"
      },
      "source": [
        "Processing time looks healthy for the vast majority of the cases. Let's see where the delays took place. "
      ]
    },
    {
      "cell_type": "code",
      "metadata": {
        "id": "Aigo0s7RwSVf",
        "colab_type": "code",
        "outputId": "be753d8c-eeef-4787-b77a-a4bb0bd83785",
        "colab": {
          "base_uri": "https://localhost:8080/",
          "height": 425
        }
      },
      "source": [
        "plt.figure(figsize=(16, 6))\n",
        "sns.boxplot(data=df_pr, \\\n",
        "            y = 'proc_time', x = 'request_type');\n",
        "plt.title(\"Processing time by request type\");"
      ],
      "execution_count": 0,
      "outputs": [
        {
          "output_type": "display_data",
          "data": {
            "image/png": "[encoded data removed]",
            "text/plain": [
              "<Figure size 1152x432 with 1 Axes>"
            ]
          },
          "metadata": {
            "tags": []
          }
        }
      ]
    },
    {
      "cell_type": "markdown",
      "metadata": {
        "id": "JwimaW83wrjo",
        "colab_type": "text"
      },
      "source": [
        "We can see that there are top 4 request types that are causing major delays. Let's loook at them closer. "
      ]
    },
    {
      "cell_type": "code",
      "metadata": {
        "id": "bFqtj5n-rkOW",
        "colab_type": "code",
        "outputId": "a366d02f-9375-4299-f8b8-9b78ce82697a",
        "colab": {
          "base_uri": "https://localhost:8080/",
          "height": 424
        }
      },
      "source": [
        "plt.figure(figsize=(16, 6))\n",
        "sns.boxplot(data=df_pr.loc[df_pr['proc_time']>1000, :], \\\n",
        "            y = 'proc_time', x = 'request_type');\n",
        "plt.title(\"Requests types where more than one second processign time occures\");"
      ],
      "execution_count": 0,
      "outputs": [
        {
          "output_type": "display_data",
          "data": {
            "image/png": "[encoded data removed]",
            "text/plain": [
              "<Figure size 1152x432 with 1 Axes>"
            ]
          },
          "metadata": {
            "tags": []
          }
        }
      ]
    },
    {
      "cell_type": "code",
      "metadata": {
        "id": "Rg4Q_4JoJoOD",
        "colab_type": "code",
        "outputId": "07dcede4-f887-4961-cebc-b03789fcd63a",
        "colab": {
          "base_uri": "https://localhost:8080/",
          "height": 425
        }
      },
      "source": [
        "plt.figure(figsize=(16, 6))\n",
        "sns.boxplot(data=df_pr.loc[df_pr['proc_time']>1000, :], \\\n",
        "            y = 'proc_time', x = 'response_code');\n",
        "plt.title(\"Response codes where more than one second processign time occures\");"
      ],
      "execution_count": 0,
      "outputs": [
        {
          "output_type": "display_data",
          "data": {
            "image/png": "[encoded data removed]",
            "text/plain": [
              "<Figure size 1152x432 with 1 Axes>"
            ]
          },
          "metadata": {
            "tags": []
          }
        }
      ]
    },
    {
      "cell_type": "markdown",
      "metadata": {
        "id": "2n0PuO5iJr4V",
        "colab_type": "text"
      },
      "source": [
        "* 200: The server successfully processed the request and is not returning any content\n",
        "* 204: No content\n",
        "* 500: internal server error\n",
        "* 400: Bad Request response status code \n",
        "* 401: Unauthorized Error\n",
        "\n",
        "* 404: Page not found\n",
        "* 302: resource requested has been temporarily moved to the URL given by the Location header.\n",
        "* 304: Not Modified.\n",
        "* 403: Request forbidden\n"
      ]
    },
    {
      "cell_type": "code",
      "metadata": {
        "id": "-_RkR7tjJORU",
        "colab_type": "code",
        "outputId": "6990d5c3-5ec6-482e-9cf7-a83c198913cb",
        "colab": {
          "base_uri": "https://localhost:8080/",
          "height": 424
        }
      },
      "source": [
        "plt.figure(figsize=(16, 6))\n",
        "sns.boxplot(data=df_pr.loc[df_pr['proc_time']>1000, :], \\\n",
        "            y = 'proc_time', x = 'request_type', hue = 'response_code');\n",
        "plt.title(\"Requests types per response code where processing time is > 1 sec\");"
      ],
      "execution_count": 0,
      "outputs": [
        {
          "output_type": "display_data",
          "data": {
            "image/png": "[encoded data removed]",
            "text/plain": [
              "<Figure size 1152x432 with 1 Axes>"
            ]
          },
          "metadata": {
            "tags": []
          }
        }
      ]
    },
    {
      "cell_type": "markdown",
      "metadata": {
        "id": "kmlANDC_yeE1",
        "colab_type": "text"
      },
      "source": [
        "## Understanding the period of the events"
      ]
    },
    {
      "cell_type": "code",
      "metadata": {
        "id": "-tK9fngY2Y0W",
        "colab_type": "code",
        "outputId": "7ab804d7-e26c-4187-cc54-d7fc17d1876f",
        "colab": {
          "base_uri": "https://localhost:8080/",
          "height": 51
        }
      },
      "source": [
        "min(df_pr['time_stamp']), max(df_pr['time_stamp'])"
      ],
      "execution_count": 0,
      "outputs": [
        {
          "output_type": "execute_result",
          "data": {
            "text/plain": [
              "(Timestamp('2017-08-01 00:04:33.004000'),\n",
              " Timestamp('2017-10-04 23:59:59.410000'))"
            ]
          },
          "metadata": {
            "tags": []
          },
          "execution_count": 74
        }
      ]
    },
    {
      "cell_type": "markdown",
      "metadata": {
        "id": "mIIiKwzN0FYA",
        "colab_type": "text"
      },
      "source": [
        "All events are happening in 2017 in the months of August, September and first 4 days of October."
      ]
    },
    {
      "cell_type": "markdown",
      "metadata": {
        "id": "7OxD91Yj4P8n",
        "colab_type": "text"
      },
      "source": [
        "## Understanding weekly sesonality "
      ]
    },
    {
      "cell_type": "code",
      "metadata": {
        "id": "KvObD_ui4J0h",
        "colab_type": "code",
        "outputId": "80588741-2bb0-4256-bfea-093bbe3851ab",
        "colab": {
          "base_uri": "https://localhost:8080/",
          "height": 408
        }
      },
      "source": [
        "# Amount of request per week day\n",
        "df_pr['weekday'] = [x.weekday() for x in df_pr['time_stamp']]\n",
        "plt.figure(figsize=(16, 6))\n",
        "sns.countplot(df_pr['weekday']);"
      ],
      "execution_count": 0,
      "outputs": [
        {
          "output_type": "display_data",
          "data": {
            "image/png": "[encoded data removed]",
            "text/plain": [
              "<Figure size 1152x432 with 1 Axes>"
            ]
          },
          "metadata": {
            "tags": []
          }
        }
      ]
    },
    {
      "cell_type": "code",
      "metadata": {
        "id": "Y-JchPOq0tEH",
        "colab_type": "code",
        "outputId": "56fea1e2-5797-451b-c021-7563171ce354",
        "colab": {
          "base_uri": "https://localhost:8080/",
          "height": 410
        }
      },
      "source": [
        "plt.figure(figsize=(16, 6))\n",
        "x = df_pr['weekday']\n",
        "y = df_pr['proc_time']\n",
        "\n",
        "sns.boxplot(x,y);\n",
        "plt.title(\"Processing time per the day of the week\");"
      ],
      "execution_count": 0,
      "outputs": [
        {
          "output_type": "display_data",
          "data": {
            "image/png": "[encoded data removed]",
            "text/plain": [
              "<Figure size 1152x432 with 1 Axes>"
            ]
          },
          "metadata": {
            "tags": []
          }
        }
      ]
    },
    {
      "cell_type": "markdown",
      "metadata": {
        "id": "PaB7O2Lk2-m2",
        "colab_type": "text"
      },
      "source": [
        "Company offers CRM service solution that is mainly used during the working days. Even though delays in using the service are happening during the weekends."
      ]
    },
    {
      "cell_type": "markdown",
      "metadata": {
        "id": "Aq6HGbRS9OVO",
        "colab_type": "text"
      },
      "source": [
        "## Which service links are causing more then 200 ms delays and what are their response codes? "
      ]
    },
    {
      "cell_type": "code",
      "metadata": {
        "id": "3R3v50EG-n8e",
        "colab_type": "code",
        "outputId": "831da38b-9dee-4942-e60a-68d5380e1316",
        "colab": {
          "base_uri": "https://localhost:8080/",
          "height": 391
        }
      },
      "source": [
        "# Counting amount of 1sec+ response time requests\n",
        "dd = df_pr.loc[ df_pr.proc_time > 1000, :]\n",
        "dd = dd.groupby('request_uri')['response_code'].value_counts()\n",
        "dd.sort_values(ascending=False)[:20]"
      ],
      "execution_count": 0,
      "outputs": [
        {
          "output_type": "execute_result",
          "data": {
            "text/plain": [
              "request_uri                                                response_code\n",
              "/api/rest/search/clients                                   200              104840\n",
              "/api/rest/search/individuals                               200              104407\n",
              "/api/rest/lenders/{}/tpos/{}/docmanagement                 200               55077\n",
              "/api/rest/lenders/{}/channel-summary                       200               46263\n",
              "/api/rest/lenders/{}/applications                          200               38538\n",
              "/api/rest/lenders/{}/clients                               200               38378\n",
              "/api/rest/login                                            200               33669\n",
              "/api/rest/lenders/{}/tpos/{}/docmanagement/{}/tpodocument  200               33014\n",
              "/api/rest/tpos/{}/company-information                      200               27642\n",
              "/api/rest/lenders/{}/channels/tpos/{}/accessible           200               26944\n",
              "/api/rest/lenders/{}/channels                              200               20726\n",
              "/api/rest/organization-channels/{}/account-executives      200               20203\n",
              "/api/rest/tpos/company/locations/dbas                      200               20030\n",
              "/api/rest/tpo/associated-lenders                           200               19082\n",
              "/api/rest/crm/marketplace/search                           200               18675\n",
              "/api/rest/tpos/{}/owners                                   200               18595\n",
              "/api/rest/lenders/{}/account-executives                    200               18272\n",
              "/api/rest/tpos/{}/individual-contacts                      200               16452\n",
              "/api/rest/tpos/{}/federal-registration                     200               15821\n",
              "/api/rest/sessions/current                                 200               15520\n",
              "Name: response_code, dtype: int64"
            ]
          },
          "metadata": {
            "tags": []
          },
          "execution_count": 75
        }
      ]
    },
    {
      "cell_type": "markdown",
      "metadata": {
        "id": "WUuYJUlYIWTI",
        "colab_type": "text"
      },
      "source": [
        "## Is there any particular user or company causing too much load ? "
      ]
    },
    {
      "cell_type": "markdown",
      "metadata": {
        "id": "eQkuc7xZL--0",
        "colab_type": "text"
      },
      "source": [
        "### Top users causing the hightes amount of requests with more than 1 sec delay in response time "
      ]
    },
    {
      "cell_type": "code",
      "metadata": {
        "id": "sBRA3U0cH-b6",
        "colab_type": "code",
        "outputId": "fb672fda-44f2-4d85-9d9e-1be2305b0d1f",
        "colab": {
          "base_uri": "https://localhost:8080/",
          "height": 391
        }
      },
      "source": [
        "# Users causing highest amount of requests with more than 1 second response time\n",
        "du = df_pr.loc[ df_pr.proc_time > 1000, :]\n",
        "du = du.groupby('usr_id')['response_code'].value_counts()\n",
        "du.sort_values(ascending=False)[:20]"
      ],
      "execution_count": 0,
      "outputs": [
        {
          "output_type": "execute_result",
          "data": {
            "text/plain": [
              "usr_id  response_code\n",
              "        200              42325\n",
              "asc     200              40579\n",
              "67325   200              14840\n",
              "49197   200              14141\n",
              "50312   200              13386\n",
              "17120   200              12413\n",
              "64702   200              12185\n",
              "66490   200              11941\n",
              "51601   200              11312\n",
              "66075   200              11184\n",
              "67326   200              11005\n",
              "67328   200              10488\n",
              "69073   200               9643\n",
              "39912   200               9588\n",
              "67324   200               9577\n",
              "66392   200               9529\n",
              "68533   200               8822\n",
              "58391   200               8580\n",
              "41826   200               8133\n",
              "65760   200               8032\n",
              "Name: response_code, dtype: int64"
            ]
          },
          "metadata": {
            "tags": []
          },
          "execution_count": 6
        }
      ]
    },
    {
      "cell_type": "markdown",
      "metadata": {
        "id": "-3jisMGOMW3l",
        "colab_type": "text"
      },
      "source": [
        "#### Companies causing highest amount of requests with more than 1 second response time\n"
      ]
    },
    {
      "cell_type": "code",
      "metadata": {
        "id": "Dof2kZVOAku8",
        "colab_type": "code",
        "outputId": "f6eee1ad-8f03-42e5-ac09-6e7cc244522a",
        "colab": {
          "base_uri": "https://localhost:8080/",
          "height": 340
        }
      },
      "source": [
        "comp  = []\n",
        "print('UserId Company name')\n",
        "for usr in [x[0] for x in tt.index]:\n",
        "  if usr!='' and usr!='asc':\n",
        "    company_name = df_usr.loc[df_usr.usr_id == int(usr) , 'comp_name'].values[0]\n",
        "    print(usr, company_name)\n",
        "    comp.append(company_name)"
      ],
      "execution_count": 0,
      "outputs": [
        {
          "output_type": "stream",
          "text": [
            "UserId Company name\n",
            "67325 company_208\n",
            "49197 company_2251\n",
            "50312 company_3684\n",
            "17120 company_5826\n",
            "64702 company_14634\n",
            "66490 company_1\n",
            "51601 company_1\n",
            "66075 company_8931\n",
            "67326 company_208\n",
            "67328 company_208\n",
            "69073 company_14634\n",
            "39912 company_3684\n",
            "67324 company_208\n",
            "66392 company_1\n",
            "68533 company_46541\n",
            "58391 company_41983\n",
            "41826 company_34733\n",
            "65760 company_43396\n"
          ],
          "name": "stdout"
        }
      ]
    },
    {
      "cell_type": "markdown",
      "metadata": {
        "id": "YStIdg_9MNzO",
        "colab_type": "text"
      },
      "source": [
        "### List of companies experiencing the highes amount of requests with delays"
      ]
    },
    {
      "cell_type": "code",
      "metadata": {
        "id": "nCeCniEVLw9r",
        "colab_type": "code",
        "outputId": "665d2f1d-0dfa-414a-a9a5-307fe8eaaa0d",
        "colab": {
          "base_uri": "https://localhost:8080/",
          "height": 221
        }
      },
      "source": [
        "pd.Series(comp).value_counts()"
      ],
      "execution_count": 0,
      "outputs": [
        {
          "output_type": "execute_result",
          "data": {
            "text/plain": [
              "company_208      4\n",
              "company_1        3\n",
              "company_3684     2\n",
              "company_14634    2\n",
              "company_8931     1\n",
              "company_46541    1\n",
              "company_41983    1\n",
              "company_34733    1\n",
              "company_5826     1\n",
              "company_2251     1\n",
              "company_43396    1\n",
              "dtype: int64"
            ]
          },
          "metadata": {
            "tags": []
          },
          "execution_count": 32
        }
      ]
    }
  ]
}